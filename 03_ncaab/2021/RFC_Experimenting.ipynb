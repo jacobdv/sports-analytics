{
 "cells": [
  {
   "cell_type": "code",
   "execution_count": 1,
   "id": "1d7fd241",
   "metadata": {},
   "outputs": [],
   "source": [
    "from sklearn.ensemble import RandomForestClassifier\n",
    "from sklearn import tree\n",
    "import pandas as pd\n",
    "import os"
   ]
  },
  {
   "cell_type": "code",
   "execution_count": 2,
   "id": "a7722c6a",
   "metadata": {},
   "outputs": [],
   "source": [
    "df = pd.read_csv('keyStats_Results.csv')\n",
    "df = df.drop('Unnamed: 0', axis=1)"
   ]
  },
  {
   "cell_type": "code",
   "execution_count": 3,
   "id": "5dd65d1b",
   "metadata": {},
   "outputs": [],
   "source": [
    "target = df['tWins']\n",
    "target_names = ['good','bad']"
   ]
  },
  {
   "cell_type": "code",
   "execution_count": 4,
   "id": "cbe5b3fd",
   "metadata": {},
   "outputs": [],
   "source": [
    "data = df.drop(['School','tWins'], axis=1)\n",
    "feature_names = data.columns"
   ]
  },
  {
   "cell_type": "code",
   "execution_count": 5,
   "id": "9a52ac5c",
   "metadata": {},
   "outputs": [],
   "source": [
    "from sklearn.model_selection import train_test_split\n",
    "X_train, X_test, y_train, y_test = train_test_split(data, target, random_state=2)"
   ]
  },
  {
   "cell_type": "markdown",
   "id": "2808918c",
   "metadata": {},
   "source": [
    "# DecisionTreeClassifier"
   ]
  },
  {
   "cell_type": "code",
   "execution_count": 10,
   "id": "6142fd81",
   "metadata": {},
   "outputs": [
    {
     "name": "stdout",
     "output_type": "stream",
     "text": [
      "0.8045977011494253\n"
     ]
    }
   ],
   "source": [
    "clf = tree.DecisionTreeClassifier()\n",
    "clf = clf.fit(X_train, y_train)\n",
    "\n",
    "predictions = clf.predict(X_test)\n",
    "print(clf.score(X_test, y_test))\n",
    "CLF = pd.DataFrame({'Prediction':predictions,'Actual':y_test})\n",
    "\n",
    "CLF = CLF.sort_values(by='Actual', ascending=False)"
   ]
  },
  {
   "cell_type": "markdown",
   "id": "d6f54d9e",
   "metadata": {},
   "source": [
    "# RandomForestClassifier"
   ]
  },
  {
   "cell_type": "code",
   "execution_count": 12,
   "id": "6f22fae2",
   "metadata": {},
   "outputs": [
    {
     "name": "stdout",
     "output_type": "stream",
     "text": [
      "0.896551724137931\n"
     ]
    }
   ],
   "source": [
    "from sklearn.ensemble import RandomForestClassifier\n",
    "rf = RandomForestClassifier(n_estimators=200)\n",
    "rf = rf.fit(X_train, y_train)\n",
    "\n",
    "predictions = rf.predict(X_test)\n",
    "print(rf.score(X_test, y_test))\n",
    "RFC = pd.DataFrame({'Prediction':predictions,'Actual':y_test})\n",
    "\n",
    "RFC = RFC.sort_values(by='Prediction', ascending=False)"
   ]
  },
  {
   "cell_type": "markdown",
   "id": "46aa828e",
   "metadata": {},
   "source": [
    "# Logistic Regression"
   ]
  },
  {
   "cell_type": "code",
   "execution_count": 11,
   "id": "044e4b94",
   "metadata": {},
   "outputs": [
    {
     "name": "stdout",
     "output_type": "stream",
     "text": [
      "0.8735632183908046\n"
     ]
    },
    {
     "name": "stderr",
     "output_type": "stream",
     "text": [
      "C:\\Users\\mrjac\\Anaconda3\\lib\\site-packages\\sklearn\\linear_model\\_logistic.py:762: ConvergenceWarning: lbfgs failed to converge (status=1):\n",
      "STOP: TOTAL NO. of ITERATIONS REACHED LIMIT.\n",
      "\n",
      "Increase the number of iterations (max_iter) or scale the data as shown in:\n",
      "    https://scikit-learn.org/stable/modules/preprocessing.html\n",
      "Please also refer to the documentation for alternative solver options:\n",
      "    https://scikit-learn.org/stable/modules/linear_model.html#logistic-regression\n",
      "  n_iter_i = _check_optimize_result(\n"
     ]
    }
   ],
   "source": [
    "from sklearn.linear_model import LogisticRegression\n",
    "classifier = LogisticRegression()\n",
    "classifier.fit(X_train, y_train)\n",
    "\n",
    "predictions = classifier.predict(X_test)\n",
    "print(classifier.score(X_test,y_test))\n",
    "LR = pd.DataFrame({'Prediction':predictions,'Actual':y_test})\n",
    "\n",
    "LR = LR.sort_values(by='Actual', ascending=False)"
   ]
  },
  {
   "cell_type": "markdown",
   "id": "ac44ad59",
   "metadata": {},
   "source": [
    "# Feature Importances for RFC"
   ]
  },
  {
   "cell_type": "code",
   "execution_count": 9,
   "id": "9e05dcaa",
   "metadata": {},
   "outputs": [
    {
     "data": {
      "text/plain": [
       "[(0.12941144607017968, 'Wins'),\n",
       " (0.11870885979707514, 'BLK'),\n",
       " (0.10143711487207883, 'AST'),\n",
       " (0.09375954939447971, 'FG%'),\n",
       " (0.08910654796229747, 'TRB'),\n",
       " (0.08540438116308208, 'FT%'),\n",
       " (0.08268910906958199, 'STL'),\n",
       " (0.07936901490466826, 'ORB'),\n",
       " (0.07620012186728413, 'TOV'),\n",
       " (0.07198110192526906, 'PF'),\n",
       " (0.07193275297400366, '3P%')]"
      ]
     },
     "execution_count": 9,
     "metadata": {},
     "output_type": "execute_result"
    }
   ],
   "source": [
    "sorted(zip(rf.feature_importances_, feature_names), reverse=True)"
   ]
  }
 ],
 "metadata": {
  "kernelspec": {
   "display_name": "sportsAnalytics",
   "language": "python",
   "name": "sportsanalytics"
  },
  "language_info": {
   "codemirror_mode": {
    "name": "ipython",
    "version": 3
   },
   "file_extension": ".py",
   "mimetype": "text/x-python",
   "name": "python",
   "nbconvert_exporter": "python",
   "pygments_lexer": "ipython3",
   "version": "3.8.5"
  }
 },
 "nbformat": 4,
 "nbformat_minor": 5
}
