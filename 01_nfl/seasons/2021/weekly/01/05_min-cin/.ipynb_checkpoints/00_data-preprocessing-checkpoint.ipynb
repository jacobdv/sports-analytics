{
 "cells": [
  {
   "cell_type": "markdown",
   "id": "28e12a9c",
   "metadata": {},
   "source": [
    "# Data Preprocessing"
   ]
  },
  {
   "cell_type": "markdown",
   "id": "c982c238",
   "metadata": {},
   "source": [
    "## Imports"
   ]
  },
  {
   "cell_type": "markdown",
   "id": "47d8dcff",
   "metadata": {},
   "source": [
    "#### Library Imports and Initial Settings"
   ]
  },
  {
   "cell_type": "code",
   "execution_count": 1,
   "id": "6c38f7f9",
   "metadata": {},
   "outputs": [],
   "source": [
    "import pandas as pd\n",
    "import numpy as np\n",
    "\n",
    "pd.set_option('display.max_columns', None)"
   ]
  },
  {
   "cell_type": "markdown",
   "id": "3f335869",
   "metadata": {},
   "source": [
    "#### Data Imports"
   ]
  },
  {
   "cell_type": "code",
   "execution_count": 9,
   "id": "dfb27fb0",
   "metadata": {},
   "outputs": [],
   "source": [
    "# 01_passing-rushing-recieving.csv\n",
    "prr = pd.read_csv('imports/01_passing-rushing-receiving.csv', header=1)\n",
    "# 02_defense.csv\n",
    "defense = pd.read_csv('imports/02_defense.csv', header=1)\n",
    "# 03_kick-punt-returns.csv\n",
    "kpr = pd.read_csv('imports/03_kick-punt-returns.csv', header=1)\n",
    "# 04_kicking-punting.csv\n",
    "kp = pd.read_csv('imports/04_kicking-punting.csv', header=1)\n",
    "# 05_adv-passing.csv\n",
    "advpass = pd.read_csv('imports/05_adv-passing.csv', header=1)\n",
    "# 06_adv-rushing.csv\n",
    "advrush = pd.read_csv('imports/06_adv-rushing.csv', header=1)\n",
    "# 07_adv-receiving.csv\n",
    "advrec = pd.read_csv('imports/07_adv-receiving.csv', header=1)\n",
    "# 08_adv-defense.csv\n",
    "advdef = pd.read_csv('imports/08_adv-defense.csv', header=1)\n",
    "# 09_home-snap-counts.csv\n",
    "homesnap = pd.read_csv('imports/09_home-snap-counts.csv', header=1)\n",
    "# 10_away-snap-counts.csv\n",
    "awaysnap = pd.read_csv('imports/10_away-snap-counts.csv', header=1)\n",
    "# 11_play-by-play.csv\n",
    "plays = pd.read_csv('imports/11_play-by-play.csv', header=1)"
   ]
  },
  {
   "cell_type": "markdown",
   "id": "b5a50f0e",
   "metadata": {},
   "source": [
    "## Initial Preprocessing and Column Renaming"
   ]
  },
  {
   "cell_type": "markdown",
   "id": "cb2f01ca",
   "metadata": {},
   "source": [
    "#### 01_passing-rushing-receiving.csv"
   ]
  },
  {
   "cell_type": "code",
   "execution_count": 10,
   "id": "0e5d0b0d",
   "metadata": {},
   "outputs": [],
   "source": [
    "# Cleaning Player Names\n",
    "prr['Player'] = [player.split('\\\\')[0] for player in prr['Player']]\n",
    "\n",
    "# Pulling DataFrames from 01_passing-rushing-receiving.csv \n",
    "pas = prr[['Player','Tm','Cmp','Att','Yds','TD','Int','Sk','Yds.1','Lng','Rate']].loc[prr['Att'] > 0]\n",
    "rush = prr[['Player','Tm','Att.1','Yds.2','TD.1','Lng.1']].loc[prr['Att.1'] > 0]\n",
    "rec = prr[['Player','Tm','Tgt','Rec','Yds.3','TD.2','Lng.2']].loc[prr['Tgt'] > 0]\n",
    "fumbles = prr[['Player','Tm','Fmb','FL']].loc[prr['Fmb'] > 0]\n",
    "\n",
    "# Renaming Columns for New DataFrames\n",
    "pas.columns = [['Player','Tm','Cmp','Att','Yds','TD','Int','Sk','SkYds','Lng','Rate']]\n",
    "rush.columns = [['Player','Tm','Att','Yds','TD','Lng']]\n",
    "rec.columns = [['Player','Tm','Tgt','Rec','Yds','TD','Lng']]"
   ]
  },
  {
   "cell_type": "markdown",
   "id": "72e4f5b9",
   "metadata": {},
   "source": [
    "#### 02_defense.csv"
   ]
  },
  {
   "cell_type": "code",
   "execution_count": 11,
   "id": "18de6739",
   "metadata": {},
   "outputs": [],
   "source": [
    "# Cleaning Player Names\n",
    "defense['Player'] = [player.split('\\\\')[0] for player in defense['Player']]\n",
    "\n",
    "# Pulling DataFrames from 02_defense.csv\n",
    "airD = defense[['Player','Tm','Int','Yds','TD','Lng','PD']].loc[(defense['Int'] > 0) | (defense['PD'] > 0)]\n",
    "groundD = defense[['Player','Tm','Sk','Comb','Solo','Ast','TFL','QBHits','FR','Yds.1','TD.1','FF']]\n",
    "\n",
    "# Renaming Columns for New DataFrames\n",
    "groundD.columns = [['Player','Tm','Sk','Comb','Solo','Ast','TFL','QBHit','FR','FYds','FTD','FF']]"
   ]
  },
  {
   "cell_type": "markdown",
   "id": "98ec4814",
   "metadata": {},
   "source": [
    "#### 03_kick-punt-returns.csv"
   ]
  },
  {
   "cell_type": "code",
   "execution_count": 12,
   "id": "188c3ec1",
   "metadata": {},
   "outputs": [],
   "source": [
    "# Cleaning Player Names\n",
    "kpr['Player'] = [player.split('\\\\')[0] for player in kpr['Player']]\n",
    "\n",
    "# Pulling DataFrames from 03_kick-punt-returns.csv\n",
    "kr = kpr[['Player','Tm','Rt','Yds','Y/Rt','TD','Lng']].loc[kpr['Rt'] > 0]\n",
    "pr = kpr[['Player','Tm','Ret','Yds.1','Y/R','TD.1','Lng.1']].loc[kpr['Ret'] > 0]\n",
    "\n",
    "# Renaming Columns for New DataFrames\n",
    "pr.columns = [['Player','Tm','Rt','Yds','Y/Rt','TD','Lng']]"
   ]
  },
  {
   "cell_type": "markdown",
   "id": "ed66e43f",
   "metadata": {},
   "source": [
    "#### 04_kicking-punting.csv"
   ]
  },
  {
   "cell_type": "code",
   "execution_count": 15,
   "id": "d25caa0a",
   "metadata": {},
   "outputs": [],
   "source": [
    "# Cleaning Player Names\n",
    "kp['Player'] = [player.split('\\\\')[0] for player in kp['Player']]\n",
    "\n",
    "# Pulling DataFrames from 04_kicking-punting.csv\n",
    "kick = kp[['Player','Tm','XPM','XPA','FGM','FGA']]\n",
    "punt = kp[['Player','Tm','Pnt','Yds','Y/P','Lng']]"
   ]
  },
  {
   "cell_type": "markdown",
   "id": "9496817a",
   "metadata": {},
   "source": [
    "#### 05_adv-passing.csv"
   ]
  },
  {
   "cell_type": "code",
   "execution_count": null,
   "id": "b00c852d",
   "metadata": {},
   "outputs": [],
   "source": []
  },
  {
   "cell_type": "markdown",
   "id": "0c27ab1c",
   "metadata": {},
   "source": [
    "#### 06_adv-rushing.csv"
   ]
  },
  {
   "cell_type": "code",
   "execution_count": null,
   "id": "f71f8e61",
   "metadata": {},
   "outputs": [],
   "source": []
  },
  {
   "cell_type": "markdown",
   "id": "32c6b84d",
   "metadata": {},
   "source": [
    "#### 07_adv-receiving.csv"
   ]
  },
  {
   "cell_type": "code",
   "execution_count": null,
   "id": "b8da6f1b",
   "metadata": {},
   "outputs": [],
   "source": []
  },
  {
   "cell_type": "markdown",
   "id": "ec68ffa5",
   "metadata": {},
   "source": [
    "#### 08_adv-defense.csv"
   ]
  },
  {
   "cell_type": "code",
   "execution_count": null,
   "id": "49aa51fc",
   "metadata": {},
   "outputs": [],
   "source": []
  },
  {
   "cell_type": "markdown",
   "id": "40108b39",
   "metadata": {},
   "source": [
    "#### 09_home-snap-counts.csv"
   ]
  },
  {
   "cell_type": "code",
   "execution_count": null,
   "id": "0ee43bd6",
   "metadata": {},
   "outputs": [],
   "source": []
  },
  {
   "cell_type": "markdown",
   "id": "a398795f",
   "metadata": {},
   "source": [
    "#### 10_away-snap-counts"
   ]
  },
  {
   "cell_type": "code",
   "execution_count": null,
   "id": "7c55e784",
   "metadata": {},
   "outputs": [],
   "source": []
  },
  {
   "cell_type": "markdown",
   "id": "b0fa3bc7",
   "metadata": {},
   "source": [
    "#### 11_play-by-play.csv"
   ]
  },
  {
   "cell_type": "code",
   "execution_count": null,
   "id": "4af20d7b",
   "metadata": {},
   "outputs": [],
   "source": []
  }
 ],
 "metadata": {
  "kernelspec": {
   "display_name": "Python 3 (ipykernel)",
   "language": "python",
   "name": "python3"
  },
  "language_info": {
   "codemirror_mode": {
    "name": "ipython",
    "version": 3
   },
   "file_extension": ".py",
   "mimetype": "text/x-python",
   "name": "python",
   "nbconvert_exporter": "python",
   "pygments_lexer": "ipython3",
   "version": "3.9.12"
  }
 },
 "nbformat": 4,
 "nbformat_minor": 5
}
