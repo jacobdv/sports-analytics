{
 "cells": [
  {
   "cell_type": "markdown",
   "id": "bf7d0a92",
   "metadata": {},
   "source": [
    "# Data Preprocessing"
   ]
  },
  {
   "cell_type": "markdown",
   "id": "dfd8e9d9",
   "metadata": {},
   "source": [
    "## Imports"
   ]
  },
  {
   "cell_type": "markdown",
   "id": "e486616b",
   "metadata": {},
   "source": [
    "#### Library Imports and Initial Settings"
   ]
  },
  {
   "cell_type": "code",
   "execution_count": 1,
   "id": "49f0dbc4",
   "metadata": {},
   "outputs": [],
   "source": [
    "import pandas as pd\n",
    "import numpy as np\n",
    "\n",
    "pd.set_option('display.max_columns', None)"
   ]
  },
  {
   "cell_type": "markdown",
   "id": "a5bf3feb",
   "metadata": {},
   "source": [
    "#### Data Imports"
   ]
  },
  {
   "cell_type": "code",
   "execution_count": 2,
   "id": "2d712ff7",
   "metadata": {},
   "outputs": [],
   "source": [
    "# 01_passing-rushing-recieving.csv\n",
    "prr = pd.read_csv('imports/01_passing-rushing-receiving.csv', header=1)\n",
    "# 02_defense.csv\n",
    "defense = pd.read_csv('imports/02_defense.csv', header=1)\n",
    "# 03_kick-punt-returns.csv\n",
    "kpr = pd.read_csv('imports/03_kick-punt-returns.csv', header=1)\n",
    "# 04_kicking-punting.csv\n",
    "kp = pd.read_csv('imports/04_kicking-punting.csv', header=1)\n",
    "# 05_adv-passing.csv\n",
    "advpass = pd.read_csv('imports/05_adv-passing.csv')\n",
    "# 06_adv-rushing.csv\n",
    "advrush = pd.read_csv('imports/06_adv-rushing.csv')\n",
    "# 07_adv-receiving.csv\n",
    "advrec = pd.read_csv('imports/07_adv-receiving.csv')\n",
    "# 08_adv-defense.csv\n",
    "advdef = pd.read_csv('imports/08_adv-defense.csv')\n",
    "# 09_home-snap-counts.csv\n",
    "homesnap = pd.read_csv('imports/09_home-snap-counts.csv', header=1)\n",
    "# 10_away-snap-counts.csv\n",
    "awaysnap = pd.read_csv('imports/10_away-snap-counts.csv', header=1)\n",
    "# 11_play-by-play.csv\n",
    "plays = pd.read_csv('imports/11_play-by-play.csv')"
   ]
  },
  {
   "cell_type": "markdown",
   "id": "321e3712",
   "metadata": {},
   "source": [
    "## Initial Preprocessing and Column Renaming"
   ]
  },
  {
   "cell_type": "markdown",
   "id": "f72b7dba",
   "metadata": {},
   "source": [
    "#### 01_passing-rushing-receiving.csv"
   ]
  },
  {
   "cell_type": "code",
   "execution_count": 3,
   "id": "0d0b4a36",
   "metadata": {},
   "outputs": [],
   "source": [
    "# Cleaning Player Names\n",
    "players = [player.split('\\\\')[0] for player in prr['Player']]\n",
    "prr['Player'] = players\n",
    "\n",
    "# Pulling DataFrames from 01_passing-rushing-receiving.csv \n",
    "pas = prr[['Player','Tm','Cmp','Att','Yds','TD','Int','Sk','Yds.1','Lng','Rate']]\n",
    "pas = pas.loc[pas['Att'] > 0]\n",
    "rush = prr[['Player','Tm','Att.1','Yds.2','TD.1','Lng.1']].loc[prr['Att.1'] > 0]\n",
    "rec = prr[['Player','Tm','Tgt','Rec','Yds.3','TD.2','Lng.2']].loc[prr['Tgt'] > 0]\n",
    "fumbles = prr[['Player','Tm','Fmb','FL']].loc[prr['Fmb'] > 0]\n",
    "\n",
    "# Renaming Columns for New DataFrames\n",
    "pas = pas.rename(columns={'Yds.1':'SkYds'})\n",
    "rush = rush.rename(columns={'Att.1':'Att','Yds.2':'Yds','TD.1':'TD','Lng.1':'Lng'})\n",
    "rec = rec.rename(columns={'Yds.3':'Yds','TD.2':'TD','Lng.2':'Lng'})"
   ]
  },
  {
   "cell_type": "markdown",
   "id": "66867802",
   "metadata": {},
   "source": [
    "#### 02_defense.csv"
   ]
  },
  {
   "cell_type": "code",
   "execution_count": 4,
   "id": "8c5f113a",
   "metadata": {},
   "outputs": [],
   "source": [
    "# Cleaning Player Names\n",
    "players = [player.split('\\\\')[0] for player in defense['Player']]\n",
    "defense['Player'] = players\n",
    "\n",
    "# Pulling DataFrames from 02_defense.csv\n",
    "airD = defense[['Player','Tm','Int','Yds','TD','Lng','PD']].loc[(defense['Int'] > 0) | (defense['PD'] > 0)]\n",
    "groundD = defense[['Player','Tm','Sk','Comb','Solo','Ast','TFL','QBHits','FR','Yds.1','TD.1','FF']]\n",
    "\n",
    "# Renaming Columns for New DataFrames\n",
    "groundD = groundD.rename(columns={'Yds.1':'FYds','TD.1':'FTD'})"
   ]
  },
  {
   "cell_type": "markdown",
   "id": "dc41d41a",
   "metadata": {},
   "source": [
    "#### 03_kick-punt-returns.csv"
   ]
  },
  {
   "cell_type": "code",
   "execution_count": 5,
   "id": "002f25a0",
   "metadata": {},
   "outputs": [],
   "source": [
    "# Cleaning Player Names\n",
    "players = [player.split('\\\\')[0] for player in kpr['Player']]\n",
    "kpr['Player'] = players\n",
    "\n",
    "# Pulling DataFrames from 03_kick-punt-returns.csv\n",
    "kr = kpr[['Player','Tm','Rt','Yds','Y/Rt','TD','Lng']].loc[kpr['Rt'] > 0]\n",
    "pr = kpr[['Player','Tm','Ret','Yds.1','Y/R','TD.1','Lng.1']].loc[kpr['Ret'] > 0]\n",
    "\n",
    "# Renaming Columns for New DataFrames\n",
    "pr = pr.rename(columns={'Yds.1':'Yds','Y/R':'Y/Rt','TD.1':'TD','Lng.1':'Lng'})"
   ]
  },
  {
   "cell_type": "markdown",
   "id": "132d7a2b",
   "metadata": {},
   "source": [
    "#### 04_kicking-punting.csv"
   ]
  },
  {
   "cell_type": "code",
   "execution_count": 6,
   "id": "cfc4f81d",
   "metadata": {},
   "outputs": [],
   "source": [
    "# Cleaning Player Names\n",
    "players = [player.split('\\\\')[0] for player in kp['Player']]\n",
    "kp['Player'] = players\n",
    "\n",
    "# Pulling DataFrames from 04_kicking-punting.csv\n",
    "kick = kp[['Player','Tm','XPM','XPA','FGM','FGA']]\n",
    "punt = kp[['Player','Tm','Pnt','Yds','Y/P','Lng']]"
   ]
  },
  {
   "cell_type": "markdown",
   "id": "e674d73e",
   "metadata": {},
   "source": [
    "#### 05_adv-passing.csv"
   ]
  },
  {
   "cell_type": "code",
   "execution_count": 7,
   "id": "3fb45da0",
   "metadata": {},
   "outputs": [],
   "source": [
    "# Cleaning Player Names\n",
    "players = [player.split('\\\\')[0] for player in advpass['Player']]\n",
    "advpass['Player'] = players\n",
    "\n",
    "# Dropping Columns Included Elsewhere\n",
    "advpass = advpass[['Player','Tm','1D','1D%','IAY','IAY/PA','CAY',\n",
    "                   'CAY/Cmp','CAY/PA','YAC','YAC/Cmp','Drops','Drop%',\n",
    "                  'BadTh','Bad%','Sk','Bltz','Hrry','Hits',\n",
    "                  'Prss','Prss%','Scrm','Yds/Scr']]\n"
   ]
  },
  {
   "cell_type": "markdown",
   "id": "76648362",
   "metadata": {},
   "source": [
    "#### 06_adv-rushing.csv"
   ]
  },
  {
   "cell_type": "code",
   "execution_count": 8,
   "id": "c94c5305",
   "metadata": {},
   "outputs": [],
   "source": [
    "# Cleaning Player Names\n",
    "players = [player.split('\\\\')[0] for player in advrush['Player']]\n",
    "advrush['Player'] = players\n",
    "\n",
    "# Dropping Columns Included Elsewhere\n",
    "advrush = advrush[['Player','Tm','YBC','YBC/Att','YAC','YAC/Att','BrkTkl','Att/Br']]"
   ]
  },
  {
   "cell_type": "markdown",
   "id": "94a12f7a",
   "metadata": {},
   "source": [
    "#### 07_adv-receiving.csv"
   ]
  },
  {
   "cell_type": "code",
   "execution_count": 9,
   "id": "cfa8a83a",
   "metadata": {},
   "outputs": [],
   "source": [
    "# Cleaning Player Names\n",
    "players = [player.split('\\\\')[0] for player in advrec['Player']]\n",
    "advrec['Player'] = players\n",
    "\n",
    "# Dropping Columns Included Elsewhere\n",
    "advrec = advrec[['Player','Tm','1D','YBC','YBC/R','YAC','YAC/R','ADOT','BrkTkl','Rec/Br','Drop','Drop%','Int','Rat']]"
   ]
  },
  {
   "cell_type": "markdown",
   "id": "b7af9df5",
   "metadata": {},
   "source": [
    "#### 08_adv-defense.csv"
   ]
  },
  {
   "cell_type": "code",
   "execution_count": 10,
   "id": "27409501",
   "metadata": {},
   "outputs": [],
   "source": [
    "# Cleaning Player Names\n",
    "players = [player.split('\\\\')[0] for player in advdef['Player']]\n",
    "advdef['Player'] = players\n",
    "\n",
    "# Dropping Columns Included Elsewhere\n",
    "advdef = advdef[['Player','Tm','Tgt','Cmp','Cmp%','Yds','Yds/Cmp',\n",
    "                 'Yds/Tgt','TD','Rat','DADOT','Air','YAC','Bltz','Hrry',\n",
    "                'QBKD','Sk','Prss','Comb','MTkl','MTkl%']]"
   ]
  },
  {
   "cell_type": "markdown",
   "id": "88fc1ba6",
   "metadata": {},
   "source": [
    "#### 09_home-snap-counts.csv"
   ]
  },
  {
   "cell_type": "code",
   "execution_count": 15,
   "id": "154f4314",
   "metadata": {},
   "outputs": [],
   "source": [
    "# Cleaning Player Names\n",
    "players = [player.split('\\\\')[0] for player in homesnap['Player']]\n",
    "homesnap['Player'] = players\n",
    "\n",
    "# Renaming Columns\n",
    "homesnap = homesnap.rename(columns={'Num':'offSnaps','Pct':'offPct','Num.1':'defSnaps',\n",
    "                                   'Pct.1':'defSnaps','Num.2':'stSnaps','Pct.2':'stPct'})"
   ]
  },
  {
   "cell_type": "markdown",
   "id": "6b13ba03",
   "metadata": {},
   "source": [
    "#### 10_away-snap-counts"
   ]
  },
  {
   "cell_type": "code",
   "execution_count": 17,
   "id": "5eb0a817",
   "metadata": {},
   "outputs": [],
   "source": [
    "# Cleaning Player Names\n",
    "players = [player.split('\\\\')[0] for player in awaysnap['Player']]\n",
    "awaysnap['Player'] = players\n",
    "\n",
    "# Renaming Columns\n",
    "awaysnap = awaysnap.rename(columns={'Num':'offSnaps','Pct':'offPct','Num.1':'defSnaps',\n",
    "                                   'Pct.1':'defSnaps','Num.2':'stSnaps','Pct.2':'stPct'})"
   ]
  },
  {
   "cell_type": "markdown",
   "id": "2ac86434",
   "metadata": {},
   "source": [
    "#### 11_play-by-play.csv"
   ]
  },
  {
   "cell_type": "code",
   "execution_count": 18,
   "id": "be104a51",
   "metadata": {
    "scrolled": true
   },
   "outputs": [
    {
     "data": {
      "text/html": [
       "<div>\n",
       "<style scoped>\n",
       "    .dataframe tbody tr th:only-of-type {\n",
       "        vertical-align: middle;\n",
       "    }\n",
       "\n",
       "    .dataframe tbody tr th {\n",
       "        vertical-align: top;\n",
       "    }\n",
       "\n",
       "    .dataframe thead th {\n",
       "        text-align: right;\n",
       "    }\n",
       "</style>\n",
       "<table border=\"1\" class=\"dataframe\">\n",
       "  <thead>\n",
       "    <tr style=\"text-align: right;\">\n",
       "      <th></th>\n",
       "      <th>Quarter</th>\n",
       "      <th>Time</th>\n",
       "      <th>Down</th>\n",
       "      <th>ToGo</th>\n",
       "      <th>Location</th>\n",
       "      <th>Detail</th>\n",
       "      <th>MIN</th>\n",
       "      <th>CIN</th>\n",
       "      <th>EPB</th>\n",
       "      <th>EPA</th>\n",
       "    </tr>\n",
       "  </thead>\n",
       "  <tbody>\n",
       "    <tr>\n",
       "      <th>0</th>\n",
       "      <td>NaN</td>\n",
       "      <td>NaN</td>\n",
       "      <td>NaN</td>\n",
       "      <td>NaN</td>\n",
       "      <td>NaN</td>\n",
       "      <td>Bengals won the coin toss and deferred Vikings...</td>\n",
       "      <td>NaN</td>\n",
       "      <td>NaN</td>\n",
       "      <td>NaN</td>\n",
       "      <td>NaN</td>\n",
       "    </tr>\n",
       "    <tr>\n",
       "      <th>1</th>\n",
       "      <td>1</td>\n",
       "      <td>15:00</td>\n",
       "      <td>NaN</td>\n",
       "      <td>NaN</td>\n",
       "      <td>CIN 35</td>\n",
       "      <td>Evan McPherson kicks off 65 yards touchback.</td>\n",
       "      <td>0.0</td>\n",
       "      <td>0.0</td>\n",
       "      <td>0.00</td>\n",
       "      <td>0.61</td>\n",
       "    </tr>\n",
       "    <tr>\n",
       "      <th>2</th>\n",
       "      <td>1</td>\n",
       "      <td>15:00</td>\n",
       "      <td>1.0</td>\n",
       "      <td>10.0</td>\n",
       "      <td>MIN 25</td>\n",
       "      <td>Penalty on C.J. Ham: False Start 5 yards (acce...</td>\n",
       "      <td>0.0</td>\n",
       "      <td>0.0</td>\n",
       "      <td>0.61</td>\n",
       "      <td>0.28</td>\n",
       "    </tr>\n",
       "    <tr>\n",
       "      <th>3</th>\n",
       "      <td>1</td>\n",
       "      <td>15:00</td>\n",
       "      <td>1.0</td>\n",
       "      <td>15.0</td>\n",
       "      <td>MIN 20</td>\n",
       "      <td>Kirk Cousins pass complete short right to Dalv...</td>\n",
       "      <td>0.0</td>\n",
       "      <td>0.0</td>\n",
       "      <td>0.28</td>\n",
       "      <td>0.60</td>\n",
       "    </tr>\n",
       "    <tr>\n",
       "      <th>4</th>\n",
       "      <td>1</td>\n",
       "      <td>14:25</td>\n",
       "      <td>2.0</td>\n",
       "      <td>6.0</td>\n",
       "      <td>MIN 29</td>\n",
       "      <td>Penalty on Tyler Conklin: False Start 5 yards ...</td>\n",
       "      <td>0.0</td>\n",
       "      <td>0.0</td>\n",
       "      <td>0.60</td>\n",
       "      <td>-0.07</td>\n",
       "    </tr>\n",
       "    <tr>\n",
       "      <th>...</th>\n",
       "      <td>...</td>\n",
       "      <td>...</td>\n",
       "      <td>...</td>\n",
       "      <td>...</td>\n",
       "      <td>...</td>\n",
       "      <td>...</td>\n",
       "      <td>...</td>\n",
       "      <td>...</td>\n",
       "      <td>...</td>\n",
       "      <td>...</td>\n",
       "    </tr>\n",
       "    <tr>\n",
       "      <th>189</th>\n",
       "      <td>OT</td>\n",
       "      <td>1:11</td>\n",
       "      <td>3.0</td>\n",
       "      <td>2.0</td>\n",
       "      <td>CIN 47</td>\n",
       "      <td>Joe Mixon up the middle for 1 yard (tackle by ...</td>\n",
       "      <td>24.0</td>\n",
       "      <td>24.0</td>\n",
       "      <td>1.36</td>\n",
       "      <td>-0.19</td>\n",
       "    </tr>\n",
       "    <tr>\n",
       "      <th>190</th>\n",
       "      <td>OT</td>\n",
       "      <td>0:40</td>\n",
       "      <td>4.0</td>\n",
       "      <td>1.0</td>\n",
       "      <td>CIN 48</td>\n",
       "      <td>Joe Burrow pass complete short left to C.J. Uz...</td>\n",
       "      <td>24.0</td>\n",
       "      <td>24.0</td>\n",
       "      <td>-0.19</td>\n",
       "      <td>4.24</td>\n",
       "    </tr>\n",
       "    <tr>\n",
       "      <th>191</th>\n",
       "      <td>OT</td>\n",
       "      <td>0:31</td>\n",
       "      <td>1.0</td>\n",
       "      <td>10.0</td>\n",
       "      <td>MIN 20</td>\n",
       "      <td>Joe Mixon up the middle for 5 yards (tackle by...</td>\n",
       "      <td>24.0</td>\n",
       "      <td>24.0</td>\n",
       "      <td>4.24</td>\n",
       "      <td>4.28</td>\n",
       "    </tr>\n",
       "    <tr>\n",
       "      <th>192</th>\n",
       "      <td>OT</td>\n",
       "      <td>0:06</td>\n",
       "      <td>2.0</td>\n",
       "      <td>6.0</td>\n",
       "      <td>MIN 16</td>\n",
       "      <td>Joe Burrow spiked the ball</td>\n",
       "      <td>24.0</td>\n",
       "      <td>24.0</td>\n",
       "      <td>4.28</td>\n",
       "      <td>3.52</td>\n",
       "    </tr>\n",
       "    <tr>\n",
       "      <th>193</th>\n",
       "      <td>OT</td>\n",
       "      <td>0:05</td>\n",
       "      <td>3.0</td>\n",
       "      <td>6.0</td>\n",
       "      <td>MIN 16</td>\n",
       "      <td>Evan McPherson 34 yard field goal good</td>\n",
       "      <td>24.0</td>\n",
       "      <td>27.0</td>\n",
       "      <td>3.52</td>\n",
       "      <td>3.00</td>\n",
       "    </tr>\n",
       "  </tbody>\n",
       "</table>\n",
       "<p>194 rows × 10 columns</p>\n",
       "</div>"
      ],
      "text/plain": [
       "    Quarter   Time  Down  ToGo Location  \\\n",
       "0       NaN    NaN   NaN   NaN      NaN   \n",
       "1         1  15:00   NaN   NaN   CIN 35   \n",
       "2         1  15:00   1.0  10.0   MIN 25   \n",
       "3         1  15:00   1.0  15.0   MIN 20   \n",
       "4         1  14:25   2.0   6.0   MIN 29   \n",
       "..      ...    ...   ...   ...      ...   \n",
       "189      OT   1:11   3.0   2.0   CIN 47   \n",
       "190      OT   0:40   4.0   1.0   CIN 48   \n",
       "191      OT   0:31   1.0  10.0   MIN 20   \n",
       "192      OT   0:06   2.0   6.0   MIN 16   \n",
       "193      OT   0:05   3.0   6.0   MIN 16   \n",
       "\n",
       "                                                Detail   MIN   CIN   EPB   EPA  \n",
       "0    Bengals won the coin toss and deferred Vikings...   NaN   NaN   NaN   NaN  \n",
       "1         Evan McPherson kicks off 65 yards touchback.   0.0   0.0  0.00  0.61  \n",
       "2    Penalty on C.J. Ham: False Start 5 yards (acce...   0.0   0.0  0.61  0.28  \n",
       "3    Kirk Cousins pass complete short right to Dalv...   0.0   0.0  0.28  0.60  \n",
       "4    Penalty on Tyler Conklin: False Start 5 yards ...   0.0   0.0  0.60 -0.07  \n",
       "..                                                 ...   ...   ...   ...   ...  \n",
       "189  Joe Mixon up the middle for 1 yard (tackle by ...  24.0  24.0  1.36 -0.19  \n",
       "190  Joe Burrow pass complete short left to C.J. Uz...  24.0  24.0 -0.19  4.24  \n",
       "191  Joe Mixon up the middle for 5 yards (tackle by...  24.0  24.0  4.24  4.28  \n",
       "192                         Joe Burrow spiked the ball  24.0  24.0  4.28  3.52  \n",
       "193             Evan McPherson 34 yard field goal good  24.0  27.0  3.52  3.00  \n",
       "\n",
       "[194 rows x 10 columns]"
      ]
     },
     "execution_count": 18,
     "metadata": {},
     "output_type": "execute_result"
    }
   ],
   "source": [
    "# No Handling Here Yet"
   ]
  },
  {
   "cell_type": "markdown",
   "id": "87ab6cac",
   "metadata": {},
   "source": [
    "## Creating Summary DataFrames for Export"
   ]
  }
 ],
 "metadata": {
  "kernelspec": {
   "display_name": "sportsAnalytics",
   "language": "python",
   "name": "sportsanalytics"
  },
  "language_info": {
   "codemirror_mode": {
    "name": "ipython",
    "version": 3
   },
   "file_extension": ".py",
   "mimetype": "text/x-python",
   "name": "python",
   "nbconvert_exporter": "python",
   "pygments_lexer": "ipython3",
   "version": "3.8.5"
  }
 },
 "nbformat": 4,
 "nbformat_minor": 5
}
