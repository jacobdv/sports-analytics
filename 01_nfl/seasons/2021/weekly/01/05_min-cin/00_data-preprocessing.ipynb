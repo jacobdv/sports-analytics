{
 "cells": [
  {
   "cell_type": "markdown",
   "id": "bf7d0a92",
   "metadata": {},
   "source": [
    "# Data Preprocessing"
   ]
  },
  {
   "cell_type": "markdown",
   "id": "dfd8e9d9",
   "metadata": {},
   "source": [
    "## Imports"
   ]
  },
  {
   "cell_type": "markdown",
   "id": "e486616b",
   "metadata": {},
   "source": [
    "#### Library Imports and Initial Settings"
   ]
  },
  {
   "cell_type": "code",
   "execution_count": 29,
   "id": "49f0dbc4",
   "metadata": {},
   "outputs": [],
   "source": [
    "import pandas as pd\n",
    "import numpy as np\n",
    "import json\n",
    "\n",
    "pd.set_option('display.max_columns', None)"
   ]
  },
  {
   "cell_type": "markdown",
   "id": "a5bf3feb",
   "metadata": {},
   "source": [
    "#### Data Imports"
   ]
  },
  {
   "cell_type": "code",
   "execution_count": 2,
   "id": "2d712ff7",
   "metadata": {},
   "outputs": [],
   "source": [
    "# 01_passing-rushing-recieving.csv\n",
    "prr = pd.read_csv('imports/01_passing-rushing-receiving.csv', header=1)\n",
    "# 02_defense.csv\n",
    "defense = pd.read_csv('imports/02_defense.csv', header=1)\n",
    "# 03_kick-punt-returns.csv\n",
    "kpr = pd.read_csv('imports/03_kick-punt-returns.csv', header=1)\n",
    "# 04_kicking-punting.csv\n",
    "kp = pd.read_csv('imports/04_kicking-punting.csv', header=1)\n",
    "# 05_adv-passing.csv\n",
    "advpass = pd.read_csv('imports/05_adv-passing.csv')\n",
    "# 06_adv-rushing.csv\n",
    "advrush = pd.read_csv('imports/06_adv-rushing.csv')\n",
    "# 07_adv-receiving.csv\n",
    "advrec = pd.read_csv('imports/07_adv-receiving.csv')\n",
    "# 08_adv-defense.csv\n",
    "advdef = pd.read_csv('imports/08_adv-defense.csv')\n",
    "# 09_home-snap-counts.csv\n",
    "homesnap = pd.read_csv('imports/09_home-snap-counts.csv', header=1)\n",
    "# 10_away-snap-counts.csv\n",
    "awaysnap = pd.read_csv('imports/10_away-snap-counts.csv', header=1)\n",
    "# 11_play-by-play.csv\n",
    "plays = pd.read_csv('imports/11_play-by-play.csv')"
   ]
  },
  {
   "cell_type": "markdown",
   "id": "321e3712",
   "metadata": {},
   "source": [
    "## Initial Preprocessing and Column Renaming"
   ]
  },
  {
   "cell_type": "markdown",
   "id": "f72b7dba",
   "metadata": {},
   "source": [
    "#### 01_passing-rushing-receiving.csv"
   ]
  },
  {
   "cell_type": "code",
   "execution_count": 3,
   "id": "0d0b4a36",
   "metadata": {},
   "outputs": [],
   "source": [
    "# Cleaning Player Names\n",
    "players = [player.split('\\\\')[0] for player in prr['Player']]\n",
    "prr['Player'] = players\n",
    "\n",
    "# Pulling DataFrames from 01_passing-rushing-receiving.csv \n",
    "pas = prr[['Player','Tm','Cmp','Att','Yds','TD','Int','Sk','Yds.1','Lng','Rate']]\n",
    "pas = pas.loc[pas['Att'] > 0]\n",
    "rush = prr[['Player','Tm','Att.1','Yds.2','TD.1','Lng.1']].loc[prr['Att.1'] > 0]\n",
    "rec = prr[['Player','Tm','Tgt','Rec','Yds.3','TD.2','Lng.2']].loc[prr['Tgt'] > 0]\n",
    "fumbles = prr[['Player','Tm','Fmb','FL']].loc[prr['Fmb'] > 0]\n",
    "\n",
    "# Renaming Columns for New DataFrames\n",
    "pas = pas.rename(columns={'Yds.1':'SkYds'})\n",
    "rush = rush.rename(columns={'Att.1':'Att','Yds.2':'Yds','TD.1':'TD','Lng.1':'Lng'})\n",
    "rec = rec.rename(columns={'Yds.3':'Yds','TD.2':'TD','Lng.2':'Lng'})"
   ]
  },
  {
   "cell_type": "markdown",
   "id": "66867802",
   "metadata": {},
   "source": [
    "#### 02_defense.csv"
   ]
  },
  {
   "cell_type": "code",
   "execution_count": 4,
   "id": "8c5f113a",
   "metadata": {},
   "outputs": [],
   "source": [
    "# Cleaning Player Names\n",
    "players = [player.split('\\\\')[0] for player in defense['Player']]\n",
    "defense['Player'] = players\n",
    "\n",
    "# Pulling DataFrames from 02_defense.csv\n",
    "airD = defense[['Player','Tm','Int','Yds','TD','Lng','PD']].loc[(defense['Int'] > 0) | (defense['PD'] > 0)]\n",
    "groundD = defense[['Player','Tm','Sk','Comb','Solo','Ast','TFL','QBHits','FR','Yds.1','TD.1','FF']]\n",
    "\n",
    "# Renaming Columns for New DataFrames\n",
    "groundD = groundD.rename(columns={'Yds.1':'FYds','TD.1':'FTD'})"
   ]
  },
  {
   "cell_type": "markdown",
   "id": "dc41d41a",
   "metadata": {},
   "source": [
    "#### 03_kick-punt-returns.csv"
   ]
  },
  {
   "cell_type": "code",
   "execution_count": 5,
   "id": "002f25a0",
   "metadata": {},
   "outputs": [],
   "source": [
    "# Cleaning Player Names\n",
    "players = [player.split('\\\\')[0] for player in kpr['Player']]\n",
    "kpr['Player'] = players\n",
    "\n",
    "# Pulling DataFrames from 03_kick-punt-returns.csv\n",
    "kr = kpr[['Player','Tm','Rt','Yds','Y/Rt','TD','Lng']].loc[kpr['Rt'] > 0]\n",
    "pr = kpr[['Player','Tm','Ret','Yds.1','Y/R','TD.1','Lng.1']].loc[kpr['Ret'] > 0]\n",
    "\n",
    "# Renaming Columns for New DataFrames\n",
    "pr = pr.rename(columns={'Yds.1':'Yds','Y/R':'Y/Rt','TD.1':'TD','Lng.1':'Lng'})"
   ]
  },
  {
   "cell_type": "markdown",
   "id": "132d7a2b",
   "metadata": {},
   "source": [
    "#### 04_kicking-punting.csv"
   ]
  },
  {
   "cell_type": "code",
   "execution_count": 6,
   "id": "cfc4f81d",
   "metadata": {},
   "outputs": [],
   "source": [
    "# Cleaning Player Names\n",
    "players = [player.split('\\\\')[0] for player in kp['Player']]\n",
    "kp['Player'] = players\n",
    "\n",
    "# Pulling DataFrames from 04_kicking-punting.csv\n",
    "kick = kp[['Player','Tm','XPM','XPA','FGM','FGA']]\n",
    "punt = kp[['Player','Tm','Pnt','Yds','Y/P','Lng']]"
   ]
  },
  {
   "cell_type": "markdown",
   "id": "e674d73e",
   "metadata": {},
   "source": [
    "#### 05_adv-passing.csv"
   ]
  },
  {
   "cell_type": "code",
   "execution_count": 7,
   "id": "3fb45da0",
   "metadata": {},
   "outputs": [],
   "source": [
    "# Cleaning Player Names\n",
    "players = [player.split('\\\\')[0] for player in advpass['Player']]\n",
    "advpass['Player'] = players\n",
    "\n",
    "# Dropping Columns Included Elsewhere\n",
    "advpass = advpass[['Player','Tm','1D','1D%','IAY','IAY/PA','CAY',\n",
    "                   'CAY/Cmp','CAY/PA','YAC','YAC/Cmp','Drops','Drop%',\n",
    "                  'BadTh','Bad%','Sk','Bltz','Hrry','Hits',\n",
    "                  'Prss','Prss%','Scrm','Yds/Scr']]\n"
   ]
  },
  {
   "cell_type": "markdown",
   "id": "76648362",
   "metadata": {},
   "source": [
    "#### 06_adv-rushing.csv"
   ]
  },
  {
   "cell_type": "code",
   "execution_count": 8,
   "id": "c94c5305",
   "metadata": {},
   "outputs": [],
   "source": [
    "# Cleaning Player Names\n",
    "players = [player.split('\\\\')[0] for player in advrush['Player']]\n",
    "advrush['Player'] = players\n",
    "\n",
    "# Dropping Columns Included Elsewhere\n",
    "advrush = advrush[['Player','Tm','YBC','YBC/Att','YAC','YAC/Att','BrkTkl','Att/Br']]"
   ]
  },
  {
   "cell_type": "markdown",
   "id": "94a12f7a",
   "metadata": {},
   "source": [
    "#### 07_adv-receiving.csv"
   ]
  },
  {
   "cell_type": "code",
   "execution_count": 9,
   "id": "cfa8a83a",
   "metadata": {},
   "outputs": [],
   "source": [
    "# Cleaning Player Names\n",
    "players = [player.split('\\\\')[0] for player in advrec['Player']]\n",
    "advrec['Player'] = players\n",
    "\n",
    "# Dropping Columns Included Elsewhere\n",
    "advrec = advrec[['Player','Tm','1D','YBC','YBC/R','YAC','YAC/R','ADOT','BrkTkl','Rec/Br','Drop','Drop%','Int','Rat']]"
   ]
  },
  {
   "cell_type": "markdown",
   "id": "b7af9df5",
   "metadata": {},
   "source": [
    "#### 08_adv-defense.csv"
   ]
  },
  {
   "cell_type": "code",
   "execution_count": 10,
   "id": "27409501",
   "metadata": {},
   "outputs": [],
   "source": [
    "# Cleaning Player Names\n",
    "players = [player.split('\\\\')[0] for player in advdef['Player']]\n",
    "advdef['Player'] = players\n",
    "\n",
    "# Dropping Columns Included Elsewhere\n",
    "advdef = advdef[['Player','Tm','Tgt','Cmp','Cmp%','Yds','Yds/Cmp',\n",
    "                 'Yds/Tgt','TD','Rat','DADOT','Air','YAC','Bltz','Hrry',\n",
    "                'QBKD','Sk','Prss','Comb','MTkl','MTkl%']]"
   ]
  },
  {
   "cell_type": "markdown",
   "id": "88fc1ba6",
   "metadata": {},
   "source": [
    "#### 09_home-snap-counts.csv"
   ]
  },
  {
   "cell_type": "code",
   "execution_count": 11,
   "id": "154f4314",
   "metadata": {},
   "outputs": [],
   "source": [
    "# Cleaning Player Names\n",
    "players = [player.split('\\\\')[0] for player in homesnap['Player']]\n",
    "homesnap['Player'] = players\n",
    "\n",
    "# Renaming Columns\n",
    "homesnap = homesnap.rename(columns={'Num':'offSnaps','Pct':'offPct','Num.1':'defSnaps',\n",
    "                                   'Pct.1':'defSnaps','Num.2':'stSnaps','Pct.2':'stPct'})"
   ]
  },
  {
   "cell_type": "markdown",
   "id": "6b13ba03",
   "metadata": {},
   "source": [
    "#### 10_away-snap-counts"
   ]
  },
  {
   "cell_type": "code",
   "execution_count": 12,
   "id": "5eb0a817",
   "metadata": {},
   "outputs": [],
   "source": [
    "# Cleaning Player Names\n",
    "players = [player.split('\\\\')[0] for player in awaysnap['Player']]\n",
    "awaysnap['Player'] = players\n",
    "\n",
    "# Renaming Columns\n",
    "awaysnap = awaysnap.rename(columns={'Num':'offSnaps','Pct':'offPct','Num.1':'defSnaps',\n",
    "                                   'Pct.1':'defSnaps','Num.2':'stSnaps','Pct.2':'stPct'})"
   ]
  },
  {
   "cell_type": "markdown",
   "id": "2ac86434",
   "metadata": {},
   "source": [
    "#### 11_play-by-play.csv"
   ]
  },
  {
   "cell_type": "code",
   "execution_count": 13,
   "id": "be104a51",
   "metadata": {
    "scrolled": true
   },
   "outputs": [],
   "source": [
    "# No Handling Here Yet"
   ]
  },
  {
   "cell_type": "markdown",
   "id": "87ab6cac",
   "metadata": {},
   "source": [
    "## Creating Dictionaries for Database Upload"
   ]
  },
  {
   "cell_type": "markdown",
   "id": "69a35db2",
   "metadata": {},
   "source": [
    "## Score"
   ]
  },
  {
   "cell_type": "code",
   "execution_count": 14,
   "id": "0f0b2833",
   "metadata": {},
   "outputs": [],
   "source": [
    "def safetyHandling():\n",
    "    safeties = np.array(plays['Location'].loc[plays['EPA'] == 2])\n",
    "    safeties = [play.split(' ')[0] for play in safeties]\n",
    "    awaySafetyPoints = 0\n",
    "    homeSafetyPoints = 0\n",
    "    for safety in safeties:\n",
    "        if safety == awayAbbr:\n",
    "            homeSafetyPoints += 2\n",
    "        else:\n",
    "            awaySafetyPoints += 2\n",
    "    return homeSafetyPoints, awaySafetyPoints"
   ]
  },
  {
   "cell_type": "code",
   "execution_count": 15,
   "id": "adaa9b6b",
   "metadata": {},
   "outputs": [],
   "source": [
    "# Pulling Home and Away Abbreviations\n",
    "awayAbbr = prr['Tm'][0]\n",
    "homeAbbr = prr['Tm'][(len(prr['Tm'])-1)]\n",
    "\n",
    "# Summing Scores\n",
    "# Away\n",
    "awayTDs = 6 * int(sum(kp['XPA'].loc[(kp['Tm'] == awayAbbr) & (kp['XPA'] > 0)]))\n",
    "awayFGs = 3 * int(sum(kp['FGM'].loc[(kp['Tm'] == awayAbbr) & (kp['FGA'] > 0)]))\n",
    "awayPATs = int(sum(kp['XPM'].loc[(kp['Tm'] == awayAbbr) & (kp['XPA'] > 0)]))\n",
    "# Home\n",
    "homeTDs = 6 * int(sum(kp['XPA'].loc[(kp['Tm'] == homeAbbr) & (kp['XPA'] > 0)]))\n",
    "homeFGs = 3 * int(sum(kp['FGM'].loc[(kp['Tm'] == homeAbbr) & (kp['FGA'] > 0)]))\n",
    "homePATs = int(sum(kp['XPM'].loc[(kp['Tm'] == homeAbbr) & (kp['XPA'] > 0)]))\n",
    "\n",
    "# Safeties\n",
    "homeSafetyPoints, awaySafetyPoints = safetyHandling()\n",
    "        \n",
    "awayScore = awayTDs + awayFGs + awayPATs + awaySafetyPoints\n",
    "homeScore = homeTDs + homeFGs + homePATs + homeSafetyPoints"
   ]
  },
  {
   "cell_type": "code",
   "execution_count": 16,
   "id": "62ed861d",
   "metadata": {},
   "outputs": [],
   "source": [
    "gameMetaData = {\n",
    "    'awayTeam': awayAbbr,\n",
    "    'homeTeam': homeAbbr,\n",
    "    'awayScore': awayScore,\n",
    "    'homeScore': homeScore\n",
    "}"
   ]
  },
  {
   "cell_type": "code",
   "execution_count": 26,
   "id": "375d3a90",
   "metadata": {},
   "outputs": [
    {
     "data": {
      "text/html": [
       "<div>\n",
       "<style scoped>\n",
       "    .dataframe tbody tr th:only-of-type {\n",
       "        vertical-align: middle;\n",
       "    }\n",
       "\n",
       "    .dataframe tbody tr th {\n",
       "        vertical-align: top;\n",
       "    }\n",
       "\n",
       "    .dataframe thead th {\n",
       "        text-align: right;\n",
       "    }\n",
       "</style>\n",
       "<table border=\"1\" class=\"dataframe\">\n",
       "  <thead>\n",
       "    <tr style=\"text-align: right;\">\n",
       "      <th></th>\n",
       "      <th>Player</th>\n",
       "      <th>Tm</th>\n",
       "      <th>Cmp</th>\n",
       "      <th>Att</th>\n",
       "      <th>Yds</th>\n",
       "      <th>TD</th>\n",
       "      <th>Int</th>\n",
       "      <th>Sk</th>\n",
       "      <th>SkYds</th>\n",
       "      <th>Lng</th>\n",
       "      <th>Rate</th>\n",
       "    </tr>\n",
       "  </thead>\n",
       "  <tbody>\n",
       "    <tr>\n",
       "      <th>0</th>\n",
       "      <td>Kirk Cousins</td>\n",
       "      <td>MIN</td>\n",
       "      <td>36</td>\n",
       "      <td>49</td>\n",
       "      <td>351</td>\n",
       "      <td>2</td>\n",
       "      <td>0</td>\n",
       "      <td>3</td>\n",
       "      <td>26</td>\n",
       "      <td>34</td>\n",
       "      <td>106.8</td>\n",
       "    </tr>\n",
       "    <tr>\n",
       "      <th>1</th>\n",
       "      <td>Justin Jefferson</td>\n",
       "      <td>MIN</td>\n",
       "      <td>1</td>\n",
       "      <td>1</td>\n",
       "      <td>11</td>\n",
       "      <td>0</td>\n",
       "      <td>0</td>\n",
       "      <td>0</td>\n",
       "      <td>0</td>\n",
       "      <td>11</td>\n",
       "      <td>112.5</td>\n",
       "    </tr>\n",
       "    <tr>\n",
       "      <th>11</th>\n",
       "      <td>Joe Burrow</td>\n",
       "      <td>CIN</td>\n",
       "      <td>20</td>\n",
       "      <td>27</td>\n",
       "      <td>261</td>\n",
       "      <td>2</td>\n",
       "      <td>0</td>\n",
       "      <td>5</td>\n",
       "      <td>44</td>\n",
       "      <td>50</td>\n",
       "      <td>128.8</td>\n",
       "    </tr>\n",
       "  </tbody>\n",
       "</table>\n",
       "</div>"
      ],
      "text/plain": [
       "              Player   Tm  Cmp  Att  Yds  TD  Int  Sk  SkYds  Lng   Rate\n",
       "0       Kirk Cousins  MIN   36   49  351   2    0   3     26   34  106.8\n",
       "1   Justin Jefferson  MIN    1    1   11   0    0   0      0   11  112.5\n",
       "11        Joe Burrow  CIN   20   27  261   2    0   5     44   50  128.8"
      ]
     },
     "execution_count": 26,
     "metadata": {},
     "output_type": "execute_result"
    }
   ],
   "source": [
    "pas"
   ]
  },
  {
   "cell_type": "code",
   "execution_count": 28,
   "id": "80eeb3c2",
   "metadata": {},
   "outputs": [],
   "source": [
    "# Passing\n"
   ]
  },
  {
   "cell_type": "code",
   "execution_count": 39,
   "id": "1618cca0",
   "metadata": {},
   "outputs": [],
   "source": [
    "flashCard = {\n",
    "    'gameMetaData': gameMetaData\n",
    "}"
   ]
  },
  {
   "cell_type": "code",
   "execution_count": 40,
   "id": "e49d040b",
   "metadata": {},
   "outputs": [
    {
     "name": "stdout",
     "output_type": "stream",
     "text": [
      "{\n",
      "    \"gameMetaData\": {\n",
      "        \"awayTeam\": \"MIN\",\n",
      "        \"homeTeam\": \"CIN\",\n",
      "        \"awayScore\": 24,\n",
      "        \"homeScore\": 27\n",
      "    }\n",
      "}\n"
     ]
    }
   ],
   "source": [
    "print(json.dumps(flashCard, indent = 4))"
   ]
  },
  {
   "cell_type": "code",
   "execution_count": null,
   "id": "ec1156f7",
   "metadata": {},
   "outputs": [],
   "source": []
  }
 ],
 "metadata": {
  "kernelspec": {
   "display_name": "Python 3 (ipykernel)",
   "language": "python",
   "name": "python3"
  },
  "language_info": {
   "codemirror_mode": {
    "name": "ipython",
    "version": 3
   },
   "file_extension": ".py",
   "mimetype": "text/x-python",
   "name": "python",
   "nbconvert_exporter": "python",
   "pygments_lexer": "ipython3",
   "version": "3.9.12"
  }
 },
 "nbformat": 4,
 "nbformat_minor": 5
}
