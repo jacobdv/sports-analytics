{
 "cells": [
  {
   "cell_type": "markdown",
   "id": "a65fbdf2",
   "metadata": {},
   "source": [
    "# Data Preprocessing"
   ]
  },
  {
   "cell_type": "markdown",
   "id": "96cc1959",
   "metadata": {},
   "source": [
    "## Imports"
   ]
  },
  {
   "cell_type": "markdown",
   "id": "460f5801",
   "metadata": {},
   "source": [
    "#### Library Imports and Initial Settings"
   ]
  },
  {
   "cell_type": "code",
   "execution_count": 1,
   "id": "e34bfe73",
   "metadata": {},
   "outputs": [],
   "source": [
    "import pandas as pd\n",
    "import numpy as np\n",
    "import json\n",
    "\n",
    "pd.set_option('display.max_columns', None)"
   ]
  },
  {
   "cell_type": "markdown",
   "id": "e50bca8e",
   "metadata": {},
   "source": [
    "#### Data Imports"
   ]
  },
  {
   "cell_type": "code",
   "execution_count": 2,
   "id": "dc64976c",
   "metadata": {},
   "outputs": [],
   "source": [
    "# 01_passing-rushing-recieving.csv\n",
    "prr = pd.read_csv('imports/01_passing-rushing-receiving.csv', header=1)\n",
    "# 02_defense.csv\n",
    "defense = pd.read_csv('imports/02_defense.csv', header=1)\n",
    "# 03_kick-punt-returns.csv\n",
    "kpr = pd.read_csv('imports/03_kick-punt-returns.csv', header=1)\n",
    "# 04_kicking-punting.csv\n",
    "kp = pd.read_csv('imports/04_kicking-punting.csv', header=1)\n",
    "# 05_adv-passing.csv\n",
    "advpass = pd.read_csv('imports/05_adv-passing.csv')\n",
    "# 06_adv-rushing.csv\n",
    "advrush = pd.read_csv('imports/06_adv-rushing.csv')\n",
    "# 07_adv-receiving.csv\n",
    "advrec = pd.read_csv('imports/07_adv-receiving.csv')\n",
    "# 08_adv-defense.csv\n",
    "advdef = pd.read_csv('imports/08_adv-defense.csv')\n",
    "# 09_home-snap-counts.csv\n",
    "homesnap = pd.read_csv('imports/09_home-snap-counts.csv', header=1)\n",
    "# 10_away-snap-counts.csv\n",
    "awaysnap = pd.read_csv('imports/10_away-snap-counts.csv', header=1)\n",
    "# 11_play-by-play.csv\n",
    "plays = pd.read_csv('imports/11_play-by-play.csv')"
   ]
  },
  {
   "cell_type": "markdown",
   "id": "f2edaf36",
   "metadata": {},
   "source": [
    "## Initial Preprocessing and Column Renaming"
   ]
  },
  {
   "cell_type": "markdown",
   "id": "e397a5c2",
   "metadata": {},
   "source": [
    "#### 01_passing-rushing-receiving.csv"
   ]
  },
  {
   "cell_type": "code",
   "execution_count": 3,
   "id": "1098f807",
   "metadata": {},
   "outputs": [],
   "source": [
    "# Cleaning Player Names\n",
    "players = [player.split('\\\\')[0] for player in prr['Player']]\n",
    "prr['Player'] = players\n",
    "\n",
    "# Pulling DataFrames from 01_passing-rushing-receiving.csv \n",
    "pas = prr[['Player','Tm','Cmp','Att','Yds','TD','Int','Sk','Yds.1','Lng','Rate']]\n",
    "pas = pas.loc[pas['Att'] > 0]\n",
    "rush = prr[['Player','Tm','Att.1','Yds.2','TD.1','Lng.1']].loc[prr['Att.1'] > 0]\n",
    "rec = prr[['Player','Tm','Tgt','Rec','Yds.3','TD.2','Lng.2']].loc[prr['Tgt'] > 0]\n",
    "fumbles = prr[['Player','Tm','Fmb','FL']].loc[prr['Fmb'] > 0]\n",
    "\n",
    "# Renaming Columns for New DataFrames\n",
    "pas = pas.rename(columns={'Yds.1':'SkYds'})\n",
    "rush = rush.rename(columns={'Att.1':'Att','Yds.2':'Yds','TD.1':'TD','Lng.1':'Lng'})\n",
    "rec = rec.rename(columns={'Yds.3':'Yds','TD.2':'TD','Lng.2':'Lng'})"
   ]
  },
  {
   "cell_type": "markdown",
   "id": "b03ab39c",
   "metadata": {},
   "source": [
    "#### 02_defense.csv"
   ]
  },
  {
   "cell_type": "code",
   "execution_count": 4,
   "id": "2f41e8bd",
   "metadata": {},
   "outputs": [],
   "source": [
    "# Cleaning Player Names\n",
    "players = [player.split('\\\\')[0] for player in defense['Player']]\n",
    "defense['Player'] = players\n",
    "\n",
    "# Pulling DataFrames from 02_defense.csv\n",
    "airD = defense[['Player','Tm','Int','Yds','TD','Lng','PD']].loc[(defense['Int'] > 0) | (defense['PD'] > 0)]\n",
    "groundD = defense[['Player','Tm','Sk','Comb','Solo','Ast','TFL','QBHits','FR','Yds.1','TD.1','FF']]\n",
    "\n",
    "# Renaming Columns for New DataFrames\n",
    "groundD = groundD.rename(columns={'Yds.1':'FYds','TD.1':'FTD'})"
   ]
  },
  {
   "cell_type": "markdown",
   "id": "6bd79bf3",
   "metadata": {},
   "source": [
    "#### 03_kick-punt-returns.csv"
   ]
  },
  {
   "cell_type": "code",
   "execution_count": 5,
   "id": "3ac18f54",
   "metadata": {},
   "outputs": [],
   "source": [
    "# Cleaning Player Names\n",
    "players = [player.split('\\\\')[0] for player in kpr['Player']]\n",
    "kpr['Player'] = players\n",
    "\n",
    "# Pulling DataFrames from 03_kick-punt-returns.csv\n",
    "kr = kpr[['Player','Tm','Rt','Yds','Y/Rt','TD','Lng']].loc[kpr['Rt'] > 0]\n",
    "pr = kpr[['Player','Tm','Ret','Yds.1','Y/R','TD.1','Lng.1']].loc[kpr['Ret'] > 0]\n",
    "\n",
    "# Renaming Columns for New DataFrames\n",
    "pr = pr.rename(columns={'Yds.1':'Yds','Y/R':'Y/Rt','TD.1':'TD','Lng.1':'Lng'})"
   ]
  },
  {
   "cell_type": "markdown",
   "id": "9b2d26a0",
   "metadata": {},
   "source": [
    "#### 04_kicking-punting.csv"
   ]
  },
  {
   "cell_type": "code",
   "execution_count": 6,
   "id": "8265696e",
   "metadata": {},
   "outputs": [],
   "source": [
    "# Cleaning Player Names\n",
    "players = [player.split('\\\\')[0] for player in kp['Player']]\n",
    "kp['Player'] = players\n",
    "\n",
    "# Pulling DataFrames from 04_kicking-punting.csv\n",
    "kick = kp[['Player','Tm','XPM','XPA','FGM','FGA']]\n",
    "punt = kp[['Player','Tm','Pnt','Yds','Y/P','Lng']]"
   ]
  },
  {
   "cell_type": "markdown",
   "id": "73888891",
   "metadata": {},
   "source": [
    "#### 05_adv-passing.csv"
   ]
  },
  {
   "cell_type": "code",
   "execution_count": 7,
   "id": "65b11bc9",
   "metadata": {},
   "outputs": [],
   "source": [
    "# Cleaning Player Names\n",
    "players = [player.split('\\\\')[0] for player in advpass['Player']]\n",
    "advpass['Player'] = players\n",
    "\n",
    "# Dropping Columns Included Elsewhere\n",
    "advpass = advpass[['Player','Tm','1D','1D%','IAY','IAY/PA','CAY',\n",
    "                   'CAY/Cmp','CAY/PA','YAC','YAC/Cmp','Drops','Drop%',\n",
    "                  'BadTh','Bad%','Sk','Bltz','Hrry','Hits',\n",
    "                  'Prss','Prss%','Scrm','Yds/Scr']]\n"
   ]
  },
  {
   "cell_type": "markdown",
   "id": "3f8a4acb",
   "metadata": {},
   "source": [
    "#### 06_adv-rushing.csv"
   ]
  },
  {
   "cell_type": "code",
   "execution_count": 8,
   "id": "7614874a",
   "metadata": {},
   "outputs": [],
   "source": [
    "# Cleaning Player Names\n",
    "players = [player.split('\\\\')[0] for player in advrush['Player']]\n",
    "advrush['Player'] = players\n",
    "\n",
    "# Dropping Columns Included Elsewhere\n",
    "advrush = advrush[['Player','Tm','YBC','YBC/Att','YAC','YAC/Att','BrkTkl','Att/Br']]"
   ]
  },
  {
   "cell_type": "markdown",
   "id": "47a89b2c",
   "metadata": {},
   "source": [
    "#### 07_adv-receiving.csv"
   ]
  },
  {
   "cell_type": "code",
   "execution_count": 9,
   "id": "d653711b",
   "metadata": {},
   "outputs": [],
   "source": [
    "# Cleaning Player Names\n",
    "players = [player.split('\\\\')[0] for player in advrec['Player']]\n",
    "advrec['Player'] = players\n",
    "\n",
    "# Dropping Columns Included Elsewhere\n",
    "advrec = advrec[['Player','Tm','1D','YBC','YBC/R','YAC','YAC/R','ADOT','BrkTkl','Rec/Br','Drop','Drop%','Int','Rat']]"
   ]
  },
  {
   "cell_type": "markdown",
   "id": "88e0c55e",
   "metadata": {},
   "source": [
    "#### 08_adv-defense.csv"
   ]
  },
  {
   "cell_type": "code",
   "execution_count": 10,
   "id": "c73ebecd",
   "metadata": {},
   "outputs": [],
   "source": [
    "# Cleaning Player Names\n",
    "players = [player.split('\\\\')[0] for player in advdef['Player']]\n",
    "advdef['Player'] = players\n",
    "\n",
    "# Dropping Columns Included Elsewhere\n",
    "advdef = advdef[['Player','Tm','Tgt','Cmp','Cmp%','Yds','Yds/Cmp',\n",
    "                 'Yds/Tgt','TD','Rat','DADOT','Air','YAC','Bltz','Hrry',\n",
    "                'QBKD','Sk','Prss','Comb','MTkl','MTkl%']]"
   ]
  },
  {
   "cell_type": "markdown",
   "id": "b458d15e",
   "metadata": {},
   "source": [
    "#### 09_home-snap-counts.csv"
   ]
  },
  {
   "cell_type": "code",
   "execution_count": 11,
   "id": "9f9d9c13",
   "metadata": {},
   "outputs": [],
   "source": [
    "# Cleaning Player Names\n",
    "players = [player.split('\\\\')[0] for player in homesnap['Player']]\n",
    "homesnap['Player'] = players\n",
    "\n",
    "# Renaming Columns\n",
    "homesnap = homesnap.rename(columns={'Num':'offSnaps','Pct':'offPct','Num.1':'defSnaps',\n",
    "                                   'Pct.1':'defSnaps','Num.2':'stSnaps','Pct.2':'stPct'})"
   ]
  },
  {
   "cell_type": "markdown",
   "id": "18204f68",
   "metadata": {},
   "source": [
    "#### 10_away-snap-counts"
   ]
  },
  {
   "cell_type": "code",
   "execution_count": 12,
   "id": "4bf748eb",
   "metadata": {},
   "outputs": [],
   "source": [
    "# Cleaning Player Names\n",
    "players = [player.split('\\\\')[0] for player in awaysnap['Player']]\n",
    "awaysnap['Player'] = players\n",
    "\n",
    "# Renaming Columns\n",
    "awaysnap = awaysnap.rename(columns={'Num':'offSnaps','Pct':'offPct','Num.1':'defSnaps',\n",
    "                                   'Pct.1':'defSnaps','Num.2':'stSnaps','Pct.2':'stPct'})"
   ]
  },
  {
   "cell_type": "markdown",
   "id": "4aa8875e",
   "metadata": {},
   "source": [
    "#### 11_play-by-play.csv"
   ]
  },
  {
   "cell_type": "code",
   "execution_count": 13,
   "id": "6ee379ff",
   "metadata": {
    "scrolled": true
   },
   "outputs": [],
   "source": [
    "# No Handling Here Yet"
   ]
  },
  {
   "cell_type": "markdown",
   "id": "87fa7735",
   "metadata": {},
   "source": [
    "## Creating Dictionaries for Database Upload"
   ]
  },
  {
   "cell_type": "markdown",
   "id": "3ffdf910",
   "metadata": {},
   "source": [
    "## Score"
   ]
  },
  {
   "cell_type": "code",
   "execution_count": 23,
   "id": "fdf4f462",
   "metadata": {},
   "outputs": [],
   "source": [
    "def safetyHandling():\n",
    "    safeties = np.array(plays['Location'].loc[plays['EPA'] == 2])\n",
    "    safeties = [play.split(' ')[0] for play in safeties]\n",
    "    awaySafetyPoints = 0\n",
    "    homeSafetyPoints = 0\n",
    "    for safety in safeties:\n",
    "        if safety == awayAbbr:\n",
    "            homeSafetyPoints += 2\n",
    "        else:\n",
    "            awaySafetyPoints += 2\n",
    "    return homeSafetyPoints, awaySafetyPoints"
   ]
  },
  {
   "cell_type": "code",
   "execution_count": 24,
   "id": "0bcd39be",
   "metadata": {},
   "outputs": [
    {
     "data": {
      "text/html": [
       "<div>\n",
       "<style scoped>\n",
       "    .dataframe tbody tr th:only-of-type {\n",
       "        vertical-align: middle;\n",
       "    }\n",
       "\n",
       "    .dataframe tbody tr th {\n",
       "        vertical-align: top;\n",
       "    }\n",
       "\n",
       "    .dataframe thead th {\n",
       "        text-align: right;\n",
       "    }\n",
       "</style>\n",
       "<table border=\"1\" class=\"dataframe\">\n",
       "  <thead>\n",
       "    <tr style=\"text-align: right;\">\n",
       "      <th></th>\n",
       "      <th>Player</th>\n",
       "      <th>Tm</th>\n",
       "      <th>XPM</th>\n",
       "      <th>XPA</th>\n",
       "      <th>FGM</th>\n",
       "      <th>FGA</th>\n",
       "      <th>Pnt</th>\n",
       "      <th>Yds</th>\n",
       "      <th>Y/P</th>\n",
       "      <th>Lng</th>\n",
       "    </tr>\n",
       "  </thead>\n",
       "  <tbody>\n",
       "    <tr>\n",
       "      <th>0</th>\n",
       "      <td>Greg Joseph</td>\n",
       "      <td>MIN</td>\n",
       "      <td>3.0</td>\n",
       "      <td>3.0</td>\n",
       "      <td>1.0</td>\n",
       "      <td>1.0</td>\n",
       "      <td>0</td>\n",
       "      <td>0</td>\n",
       "      <td>NaN</td>\n",
       "      <td>0</td>\n",
       "    </tr>\n",
       "    <tr>\n",
       "      <th>1</th>\n",
       "      <td>Jordan Berry</td>\n",
       "      <td>MIN</td>\n",
       "      <td>NaN</td>\n",
       "      <td>NaN</td>\n",
       "      <td>NaN</td>\n",
       "      <td>NaN</td>\n",
       "      <td>8</td>\n",
       "      <td>402</td>\n",
       "      <td>50.3</td>\n",
       "      <td>63</td>\n",
       "    </tr>\n",
       "    <tr>\n",
       "      <th>2</th>\n",
       "      <td>Evan McPherson</td>\n",
       "      <td>CIN</td>\n",
       "      <td>3.0</td>\n",
       "      <td>3.0</td>\n",
       "      <td>2.0</td>\n",
       "      <td>2.0</td>\n",
       "      <td>0</td>\n",
       "      <td>0</td>\n",
       "      <td>NaN</td>\n",
       "      <td>0</td>\n",
       "    </tr>\n",
       "    <tr>\n",
       "      <th>3</th>\n",
       "      <td>Kevin Huber</td>\n",
       "      <td>CIN</td>\n",
       "      <td>NaN</td>\n",
       "      <td>NaN</td>\n",
       "      <td>NaN</td>\n",
       "      <td>NaN</td>\n",
       "      <td>7</td>\n",
       "      <td>332</td>\n",
       "      <td>47.4</td>\n",
       "      <td>61</td>\n",
       "    </tr>\n",
       "  </tbody>\n",
       "</table>\n",
       "</div>"
      ],
      "text/plain": [
       "           Player   Tm  XPM  XPA  FGM  FGA  Pnt  Yds   Y/P  Lng\n",
       "0     Greg Joseph  MIN  3.0  3.0  1.0  1.0    0    0   NaN    0\n",
       "1    Jordan Berry  MIN  NaN  NaN  NaN  NaN    8  402  50.3   63\n",
       "2  Evan McPherson  CIN  3.0  3.0  2.0  2.0    0    0   NaN    0\n",
       "3     Kevin Huber  CIN  NaN  NaN  NaN  NaN    7  332  47.4   61"
      ]
     },
     "execution_count": 24,
     "metadata": {},
     "output_type": "execute_result"
    }
   ],
   "source": [
    "kp"
   ]
  },
  {
   "cell_type": "code",
   "execution_count": 15,
   "id": "9c11f21c",
   "metadata": {},
   "outputs": [],
   "source": [
    "# Pulling Home and Away Abbreviations\n",
    "awayAbbr = prr['Tm'][0]\n",
    "homeAbbr = prr['Tm'][(len(prr['Tm'])-1)]\n",
    "\n",
    "# Summing Scores\n",
    "# Away\n",
    "awayTDs = 6 * int(sum(kp['XPA'].loc[(kp['Tm'] == awayAbbr) & (kp['XPA'] > 0)]))\n",
    "awayFGs = 3 * int(sum(kp['FGM'].loc[(kp['Tm'] == awayAbbr) & (kp['FGA'] > 0)]))\n",
    "awayPATs = int(sum(kp['XPM'].loc[(kp['Tm'] == awayAbbr) & (kp['XPA'] > 0)]))\n",
    "# Home\n",
    "homeTDs = 6 * int(sum(kp['XPA'].loc[(kp['Tm'] == homeAbbr) & (kp['XPA'] > 0)]))\n",
    "homeFGs = 3 * int(sum(kp['FGM'].loc[(kp['Tm'] == homeAbbr) & (kp['FGA'] > 0)]))\n",
    "homePATs = int(sum(kp['XPM'].loc[(kp['Tm'] == homeAbbr) & (kp['XPA'] > 0)]))\n",
    "\n",
    "# Safeties\n",
    "homeSafetyPoints, awaySafetyPoints = safetyHandling()\n",
    "        \n",
    "awayScore = awayTDs + awayFGs + awayPATs + awaySafetyPoints\n",
    "homeScore = homeTDs + homeFGs + homePATs + homeSafetyPoints"
   ]
  },
  {
   "cell_type": "code",
   "execution_count": 22,
   "id": "ed9adaa2",
   "metadata": {},
   "outputs": [
    {
     "name": "stdout",
     "output_type": "stream",
     "text": [
      "MIN 24 CIN 27\n"
     ]
    }
   ],
   "source": [
    "print(awayAbbr, awayScore, homeAbbr, homeScore)"
   ]
  },
  {
   "cell_type": "code",
   "execution_count": 16,
   "id": "9930e02b",
   "metadata": {},
   "outputs": [],
   "source": [
    "gameMetaData = {\n",
    "    'awayTeam': awayAbbr,\n",
    "    'homeTeam': homeAbbr,\n",
    "    'awayScore': awayScore,\n",
    "    'homeScore': homeScore\n",
    "}"
   ]
  },
  {
   "cell_type": "code",
   "execution_count": 17,
   "id": "c1270d85",
   "metadata": {},
   "outputs": [
    {
     "data": {
      "text/html": [
       "<div>\n",
       "<style scoped>\n",
       "    .dataframe tbody tr th:only-of-type {\n",
       "        vertical-align: middle;\n",
       "    }\n",
       "\n",
       "    .dataframe tbody tr th {\n",
       "        vertical-align: top;\n",
       "    }\n",
       "\n",
       "    .dataframe thead th {\n",
       "        text-align: right;\n",
       "    }\n",
       "</style>\n",
       "<table border=\"1\" class=\"dataframe\">\n",
       "  <thead>\n",
       "    <tr style=\"text-align: right;\">\n",
       "      <th></th>\n",
       "      <th>Player</th>\n",
       "      <th>Tm</th>\n",
       "      <th>Cmp</th>\n",
       "      <th>Att</th>\n",
       "      <th>Yds</th>\n",
       "      <th>TD</th>\n",
       "      <th>Int</th>\n",
       "      <th>Sk</th>\n",
       "      <th>SkYds</th>\n",
       "      <th>Lng</th>\n",
       "      <th>Rate</th>\n",
       "    </tr>\n",
       "  </thead>\n",
       "  <tbody>\n",
       "    <tr>\n",
       "      <th>0</th>\n",
       "      <td>Kirk Cousins</td>\n",
       "      <td>MIN</td>\n",
       "      <td>36</td>\n",
       "      <td>49</td>\n",
       "      <td>351</td>\n",
       "      <td>2</td>\n",
       "      <td>0</td>\n",
       "      <td>3</td>\n",
       "      <td>26</td>\n",
       "      <td>34</td>\n",
       "      <td>106.8</td>\n",
       "    </tr>\n",
       "    <tr>\n",
       "      <th>1</th>\n",
       "      <td>Justin Jefferson</td>\n",
       "      <td>MIN</td>\n",
       "      <td>1</td>\n",
       "      <td>1</td>\n",
       "      <td>11</td>\n",
       "      <td>0</td>\n",
       "      <td>0</td>\n",
       "      <td>0</td>\n",
       "      <td>0</td>\n",
       "      <td>11</td>\n",
       "      <td>112.5</td>\n",
       "    </tr>\n",
       "    <tr>\n",
       "      <th>11</th>\n",
       "      <td>Joe Burrow</td>\n",
       "      <td>CIN</td>\n",
       "      <td>20</td>\n",
       "      <td>27</td>\n",
       "      <td>261</td>\n",
       "      <td>2</td>\n",
       "      <td>0</td>\n",
       "      <td>5</td>\n",
       "      <td>44</td>\n",
       "      <td>50</td>\n",
       "      <td>128.8</td>\n",
       "    </tr>\n",
       "  </tbody>\n",
       "</table>\n",
       "</div>"
      ],
      "text/plain": [
       "              Player   Tm  Cmp  Att  Yds  TD  Int  Sk  SkYds  Lng   Rate\n",
       "0       Kirk Cousins  MIN   36   49  351   2    0   3     26   34  106.8\n",
       "1   Justin Jefferson  MIN    1    1   11   0    0   0      0   11  112.5\n",
       "11        Joe Burrow  CIN   20   27  261   2    0   5     44   50  128.8"
      ]
     },
     "execution_count": 17,
     "metadata": {},
     "output_type": "execute_result"
    }
   ],
   "source": [
    "pas"
   ]
  },
  {
   "cell_type": "code",
   "execution_count": 18,
   "id": "32fb7a6b",
   "metadata": {
    "scrolled": true
   },
   "outputs": [
    {
     "data": {
      "text/html": [
       "<div>\n",
       "<style scoped>\n",
       "    .dataframe tbody tr th:only-of-type {\n",
       "        vertical-align: middle;\n",
       "    }\n",
       "\n",
       "    .dataframe tbody tr th {\n",
       "        vertical-align: top;\n",
       "    }\n",
       "\n",
       "    .dataframe thead th {\n",
       "        text-align: right;\n",
       "    }\n",
       "</style>\n",
       "<table border=\"1\" class=\"dataframe\">\n",
       "  <thead>\n",
       "    <tr style=\"text-align: right;\">\n",
       "      <th></th>\n",
       "      <th>Player</th>\n",
       "      <th>Tm</th>\n",
       "      <th>1D</th>\n",
       "      <th>1D%</th>\n",
       "      <th>IAY</th>\n",
       "      <th>IAY/PA</th>\n",
       "      <th>CAY</th>\n",
       "      <th>CAY/Cmp</th>\n",
       "      <th>CAY/PA</th>\n",
       "      <th>YAC</th>\n",
       "      <th>YAC/Cmp</th>\n",
       "      <th>Drops</th>\n",
       "      <th>Drop%</th>\n",
       "      <th>BadTh</th>\n",
       "      <th>Bad%</th>\n",
       "      <th>Sk</th>\n",
       "      <th>Bltz</th>\n",
       "      <th>Hrry</th>\n",
       "      <th>Hits</th>\n",
       "      <th>Prss</th>\n",
       "      <th>Prss%</th>\n",
       "      <th>Scrm</th>\n",
       "      <th>Yds/Scr</th>\n",
       "    </tr>\n",
       "  </thead>\n",
       "  <tbody>\n",
       "    <tr>\n",
       "      <th>0</th>\n",
       "      <td>Kirk Cousins</td>\n",
       "      <td>MIN</td>\n",
       "      <td>15</td>\n",
       "      <td>28.8</td>\n",
       "      <td>297</td>\n",
       "      <td>6.1</td>\n",
       "      <td>176</td>\n",
       "      <td>4.9</td>\n",
       "      <td>3.6</td>\n",
       "      <td>175</td>\n",
       "      <td>4.9</td>\n",
       "      <td>2</td>\n",
       "      <td>4.3%</td>\n",
       "      <td>6</td>\n",
       "      <td>13.0%</td>\n",
       "      <td>3</td>\n",
       "      <td>19</td>\n",
       "      <td>7</td>\n",
       "      <td>5</td>\n",
       "      <td>15</td>\n",
       "      <td>28.8%</td>\n",
       "      <td>0</td>\n",
       "      <td>NaN</td>\n",
       "    </tr>\n",
       "    <tr>\n",
       "      <th>1</th>\n",
       "      <td>Justin Jefferson</td>\n",
       "      <td>MIN</td>\n",
       "      <td>1</td>\n",
       "      <td>100.0</td>\n",
       "      <td>11</td>\n",
       "      <td>11.0</td>\n",
       "      <td>11</td>\n",
       "      <td>11.0</td>\n",
       "      <td>11.0</td>\n",
       "      <td>0</td>\n",
       "      <td>0.0</td>\n",
       "      <td>0</td>\n",
       "      <td>0.0%</td>\n",
       "      <td>0</td>\n",
       "      <td>0.0%</td>\n",
       "      <td>0</td>\n",
       "      <td>1</td>\n",
       "      <td>0</td>\n",
       "      <td>1</td>\n",
       "      <td>1</td>\n",
       "      <td>100.0%</td>\n",
       "      <td>0</td>\n",
       "      <td>NaN</td>\n",
       "    </tr>\n",
       "    <tr>\n",
       "      <th>2</th>\n",
       "      <td>Joe Burrow</td>\n",
       "      <td>CIN</td>\n",
       "      <td>12</td>\n",
       "      <td>37.5</td>\n",
       "      <td>220</td>\n",
       "      <td>8.1</td>\n",
       "      <td>137</td>\n",
       "      <td>6.9</td>\n",
       "      <td>5.1</td>\n",
       "      <td>124</td>\n",
       "      <td>6.2</td>\n",
       "      <td>0</td>\n",
       "      <td>0.0%</td>\n",
       "      <td>5</td>\n",
       "      <td>19.2%</td>\n",
       "      <td>5</td>\n",
       "      <td>10</td>\n",
       "      <td>3</td>\n",
       "      <td>2</td>\n",
       "      <td>10</td>\n",
       "      <td>31.3%</td>\n",
       "      <td>0</td>\n",
       "      <td>NaN</td>\n",
       "    </tr>\n",
       "  </tbody>\n",
       "</table>\n",
       "</div>"
      ],
      "text/plain": [
       "             Player   Tm  1D    1D%  IAY  IAY/PA  CAY  CAY/Cmp  CAY/PA  YAC  \\\n",
       "0      Kirk Cousins  MIN  15   28.8  297     6.1  176      4.9     3.6  175   \n",
       "1  Justin Jefferson  MIN   1  100.0   11    11.0   11     11.0    11.0    0   \n",
       "2        Joe Burrow  CIN  12   37.5  220     8.1  137      6.9     5.1  124   \n",
       "\n",
       "   YAC/Cmp  Drops Drop%  BadTh   Bad%  Sk  Bltz  Hrry  Hits  Prss   Prss%  \\\n",
       "0      4.9      2  4.3%      6  13.0%   3    19     7     5    15   28.8%   \n",
       "1      0.0      0  0.0%      0   0.0%   0     1     0     1     1  100.0%   \n",
       "2      6.2      0  0.0%      5  19.2%   5    10     3     2    10   31.3%   \n",
       "\n",
       "   Scrm  Yds/Scr  \n",
       "0     0      NaN  \n",
       "1     0      NaN  \n",
       "2     0      NaN  "
      ]
     },
     "execution_count": 18,
     "metadata": {},
     "output_type": "execute_result"
    }
   ],
   "source": [
    "advpass"
   ]
  },
  {
   "cell_type": "code",
   "execution_count": 19,
   "id": "64e7f59e",
   "metadata": {},
   "outputs": [],
   "source": [
    "# Passing\n"
   ]
  },
  {
   "cell_type": "code",
   "execution_count": 20,
   "id": "fa8b18bf",
   "metadata": {},
   "outputs": [],
   "source": [
    "flashCard = {\n",
    "    'gameMetaData': gameMetaData,\n",
    "    'offense': {\n",
    "        'passing': {},\n",
    "        'rushing': {},\n",
    "        'receiving': {}\n",
    "    },\n",
    "    'defense': {},\n",
    "    'special_teams': {\n",
    "        'kicking': {},\n",
    "        'returning': {}\n",
    "    }\n",
    "}"
   ]
  },
  {
   "cell_type": "code",
   "execution_count": 21,
   "id": "c9f8676a",
   "metadata": {},
   "outputs": [
    {
     "name": "stdout",
     "output_type": "stream",
     "text": [
      "{\n",
      "    \"gameMetaData\": {\n",
      "        \"awayTeam\": \"MIN\",\n",
      "        \"homeTeam\": \"CIN\",\n",
      "        \"awayScore\": 24,\n",
      "        \"homeScore\": 27\n",
      "    },\n",
      "    \"offense\": {\n",
      "        \"passing\": {},\n",
      "        \"rushing\": {},\n",
      "        \"receiving\": {}\n",
      "    },\n",
      "    \"defense\": {},\n",
      "    \"special_teams\": {\n",
      "        \"kicking\": {},\n",
      "        \"returning\": {}\n",
      "    }\n",
      "}\n"
     ]
    }
   ],
   "source": [
    "print(json.dumps(flashCard, indent = 4))"
   ]
  },
  {
   "cell_type": "code",
   "execution_count": null,
   "id": "3370a886",
   "metadata": {},
   "outputs": [],
   "source": []
  }
 ],
 "metadata": {
  "kernelspec": {
   "display_name": "Python 3 (ipykernel)",
   "language": "python",
   "name": "python3"
  },
  "language_info": {
   "codemirror_mode": {
    "name": "ipython",
    "version": 3
   },
   "file_extension": ".py",
   "mimetype": "text/x-python",
   "name": "python",
   "nbconvert_exporter": "python",
   "pygments_lexer": "ipython3",
   "version": "3.9.12"
  }
 },
 "nbformat": 4,
 "nbformat_minor": 5
}
