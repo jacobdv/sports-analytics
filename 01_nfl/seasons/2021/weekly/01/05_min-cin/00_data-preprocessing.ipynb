{
 "cells": [
  {
   "cell_type": "markdown",
   "id": "28e12a9c",
   "metadata": {},
   "source": [
    "# Data Preprocessing"
   ]
  },
  {
   "cell_type": "markdown",
   "id": "c982c238",
   "metadata": {},
   "source": [
    "## Imports"
   ]
  },
  {
   "cell_type": "markdown",
   "id": "47d8dcff",
   "metadata": {},
   "source": [
    "#### Library Imports and Initial Settings"
   ]
  },
  {
   "cell_type": "code",
   "execution_count": 1,
   "id": "6c38f7f9",
   "metadata": {},
   "outputs": [],
   "source": [
    "import pandas as pd\n",
    "import numpy as np\n",
    "\n",
    "pd.set_option('display.max_columns', None)"
   ]
  },
  {
   "cell_type": "markdown",
   "id": "3f335869",
   "metadata": {},
   "source": [
    "#### Data Imports"
   ]
  },
  {
   "cell_type": "code",
   "execution_count": 2,
   "id": "dfb27fb0",
   "metadata": {},
   "outputs": [],
   "source": [
    "# 01_passing-rushing-recieving.csv\n",
    "prr = pd.read_csv('imports/01_passing-rushing-receiving.csv', header=1)\n",
    "# 02_defense.csv\n",
    "defense = pd.read_csv('imports/02_defense.csv', header=1)\n",
    "# 03_kick-punt-returns.csv\n",
    "kpr = pd.read_csv('imports/03_kick-punt-returns.csv', header=1)\n",
    "# 04_kicking-punting.csv\n",
    "kp = pd.read_csv('imports/04_kicking-punting.csv', header=1)\n",
    "# 05_adv-passing.csv\n",
    "advpass = pd.read_csv('imports/05_adv-passing.csv')\n",
    "# 06_adv-rushing.csv\n",
    "advrush = pd.read_csv('imports/06_adv-rushing.csv')\n",
    "# 07_adv-receiving.csv\n",
    "advrec = pd.read_csv('imports/07_adv-receiving.csv')\n",
    "# 08_adv-defense.csv\n",
    "advdef = pd.read_csv('imports/08_adv-defense.csv')\n",
    "# 09_home-snap-counts.csv\n",
    "homesnap = pd.read_csv('imports/09_home-snap-counts.csv', header=1)\n",
    "# 10_away-snap-counts.csv\n",
    "awaysnap = pd.read_csv('imports/10_away-snap-counts.csv', header=1)\n",
    "# 11_play-by-play.csv\n",
    "plays = pd.read_csv('imports/11_play-by-play.csv')"
   ]
  },
  {
   "cell_type": "markdown",
   "id": "b5a50f0e",
   "metadata": {},
   "source": [
    "## Initial Preprocessing and Column Renaming"
   ]
  },
  {
   "cell_type": "markdown",
   "id": "cb2f01ca",
   "metadata": {},
   "source": [
    "#### 01_passing-rushing-receiving.csv"
   ]
  },
  {
   "cell_type": "code",
   "execution_count": 3,
   "id": "0e5d0b0d",
   "metadata": {},
   "outputs": [],
   "source": [
    "# Cleaning Player Names\n",
    "prr['Player'] = [player.split('\\\\')[0] for player in prr['Player']]\n",
    "\n",
    "# Pulling DataFrames from 01_passing-rushing-receiving.csv \n",
    "pas = prr[['Player','Tm','Cmp','Att','Yds','TD','Int','Sk','Yds.1','Lng','Rate']].loc[prr['Att'] > 0]\n",
    "rush = prr[['Player','Tm','Att.1','Yds.2','TD.1','Lng.1']].loc[prr['Att.1'] > 0]\n",
    "rec = prr[['Player','Tm','Tgt','Rec','Yds.3','TD.2','Lng.2']].loc[prr['Tgt'] > 0]\n",
    "fumbles = prr[['Player','Tm','Fmb','FL']].loc[prr['Fmb'] > 0]\n",
    "\n",
    "# Renaming Columns for New DataFrames\n",
    "pas.columns = [['Player','Tm','Cmp','Att','Yds','TD','Int','Sk','SkYds','Lng','Rate']]\n",
    "rush.columns = [['Player','Tm','Att','Yds','TD','Lng']]\n",
    "rec.columns = [['Player','Tm','Tgt','Rec','Yds','TD','Lng']]"
   ]
  },
  {
   "cell_type": "markdown",
   "id": "72e4f5b9",
   "metadata": {},
   "source": [
    "#### 02_defense.csv"
   ]
  },
  {
   "cell_type": "code",
   "execution_count": 4,
   "id": "18de6739",
   "metadata": {},
   "outputs": [],
   "source": [
    "# Cleaning Player Names\n",
    "defense['Player'] = [player.split('\\\\')[0] for player in defense['Player']]\n",
    "\n",
    "# Pulling DataFrames from 02_defense.csv\n",
    "airD = defense[['Player','Tm','Int','Yds','TD','Lng','PD']].loc[(defense['Int'] > 0) | (defense['PD'] > 0)]\n",
    "groundD = defense[['Player','Tm','Sk','Comb','Solo','Ast','TFL','QBHits','FR','Yds.1','TD.1','FF']]\n",
    "\n",
    "# Renaming Columns for New DataFrames\n",
    "groundD.columns = [['Player','Tm','Sk','Comb','Solo','Ast','TFL','QBHit','FR','FYds','FTD','FF']]"
   ]
  },
  {
   "cell_type": "markdown",
   "id": "98ec4814",
   "metadata": {},
   "source": [
    "#### 03_kick-punt-returns.csv"
   ]
  },
  {
   "cell_type": "code",
   "execution_count": 5,
   "id": "188c3ec1",
   "metadata": {},
   "outputs": [],
   "source": [
    "# Cleaning Player Names\n",
    "kpr['Player'] = [player.split('\\\\')[0] for player in kpr['Player']]\n",
    "\n",
    "# Pulling DataFrames from 03_kick-punt-returns.csv\n",
    "kr = kpr[['Player','Tm','Rt','Yds','Y/Rt','TD','Lng']].loc[kpr['Rt'] > 0]\n",
    "pr = kpr[['Player','Tm','Ret','Yds.1','Y/R','TD.1','Lng.1']].loc[kpr['Ret'] > 0]\n",
    "\n",
    "# Renaming Columns for New DataFrames\n",
    "pr.columns = [['Player','Tm','Rt','Yds','Y/Rt','TD','Lng']]"
   ]
  },
  {
   "cell_type": "markdown",
   "id": "19b59de5",
   "metadata": {},
   "source": [
    "#### 04_kicking-punting.csv"
   ]
  },
  {
   "cell_type": "code",
   "execution_count": 6,
   "id": "89ea8444",
   "metadata": {},
   "outputs": [],
   "source": [
    "# Cleaning Player Names\n",
    "kp['Player'] = [player.split('\\\\')[0] for player in kp['Player']]\n",
    "\n",
    "# Pulling DataFrames from 04_kicking-punting.csv\n",
    "kick = kp[['Player','Tm','XPM','XPA','FGM','FGA']]\n",
    "punt = kp[['Player','Tm','Pnt','Yds','Y/P','Lng']]"
   ]
  },
  {
   "cell_type": "markdown",
   "id": "f8067b1f",
   "metadata": {},
   "source": [
    "#### 05_adv-passing.csv"
   ]
  },
  {
   "cell_type": "code",
   "execution_count": 7,
   "id": "3fdc181f",
   "metadata": {},
   "outputs": [],
   "source": [
    "# Cleaning Player Names\n",
    "advpass['Player'] = [player.split('\\\\')[0] for player in advpass['Player']]\n",
    "\n",
    "# Dropping Columns Included Elsewhere\n",
    "advpass = advpass[['Player','Tm','1D','1D%','IAY','IAY/PA','CAY',\n",
    "                   'CAY/Cmp','CAY/PA','YAC','YAC/Cmp','Drops','Drop%',\n",
    "                  'BadTh','Bad%','Sk','Bltz','Hrry','Hits',\n",
    "                  'Prss','Prss%','Scrm','Yds/Scr']]\n"
   ]
  },
  {
   "cell_type": "markdown",
   "id": "43174268",
   "metadata": {},
   "source": [
    "#### 06_adv-rushing.csv"
   ]
  },
  {
   "cell_type": "code",
   "execution_count": 8,
   "id": "65e82133",
   "metadata": {},
   "outputs": [],
   "source": [
    "# Cleaning Player Names\n",
    "advrush['Player'] = [player.split('\\\\')[0] for player in advrush['Player']]\n",
    "\n",
    "# Dropping Columns Included Elsewhere\n",
    "advrush = advrush[['Player','Tm','YBC','YBC/Att','YAC','YAC/Att','BrkTkl','Att/Br']]"
   ]
  },
  {
   "cell_type": "markdown",
   "id": "d1164fa1",
   "metadata": {},
   "source": [
    "#### 07_adv-receiving.csv"
   ]
  },
  {
   "cell_type": "code",
   "execution_count": 9,
   "id": "02062fff",
   "metadata": {},
   "outputs": [],
   "source": [
    "# Cleaning Player Names\n",
    "advrec['Player'] = [player.split('\\\\')[0] for player in advrec['Player']]\n",
    "\n",
    "# Dropping Columns Included Elsewhere\n",
    "advrec = advrec[['Player','Tm','1D','YBC','YBC/R','YAC','YAC/R','ADOT','BrkTkl','Rec/Br','Drop','Drop%','Int','Rat']]"
   ]
  },
  {
   "cell_type": "markdown",
   "id": "95706d2b",
   "metadata": {},
   "source": [
    "#### 08_adv-defense.csv"
   ]
  },
  {
   "cell_type": "code",
   "execution_count": 10,
   "id": "ae8c9a1a",
   "metadata": {},
   "outputs": [],
   "source": [
    "# Cleaning Player Names\n",
    "advdef['Player'] = [player.split('\\\\')[0] for player in advdef['Player']]\n",
    "\n",
    "# Dropping Columns Included Elsewhere\n",
    "advdef = advdef[['Player','Tm','Tgt','Cmp','Cmp%','Yds','Yds/Cmp',\n",
    "                 'Yds/Tgt','TD','Rat','DADOT','Air','YAC','Bltz','Hrry',\n",
    "                'QBKD','Sk','Prss','Comb','MTkl','MTkl%']]"
   ]
  },
  {
   "cell_type": "markdown",
   "id": "7103df4d",
   "metadata": {},
   "source": [
    "#### 09_home-snap-counts.csv"
   ]
  },
  {
   "cell_type": "code",
   "execution_count": 11,
   "id": "fdc25515",
   "metadata": {},
   "outputs": [],
   "source": [
    "# Cleaning Player Names\n",
    "homesnap['Player'] = [player.split('\\\\')[0] for player in homesnap['Player']]\n",
    "\n",
    "# Renaming Columns\n",
    "homesnap.columns = [['Player','Pos','offSnaps','offPct','defSnaps','defPct','stSnaps','stPct']]"
   ]
  },
  {
   "cell_type": "markdown",
   "id": "b91fac84",
   "metadata": {},
   "source": [
    "#### 10_away-snap-counts"
   ]
  },
  {
   "cell_type": "code",
   "execution_count": 12,
   "id": "24aac8c4",
   "metadata": {},
   "outputs": [],
   "source": [
    "# Cleaning Player Names\n",
    "awaysnap['Player'] = [player.split('\\\\')[0] for player in awaysnap['Player']]\n",
    "\n",
    "# Renaming Columns\n",
    "awaysnap.columns = [['Player','Pos','offSnaps','offPct','defSnaps','defPct','stSnaps','stPct']]"
   ]
  },
  {
   "cell_type": "markdown",
   "id": "09f3cab2",
   "metadata": {},
   "source": [
    "#### 11_play-by-play.csv"
   ]
  },
  {
   "cell_type": "code",
   "execution_count": 13,
   "id": "792785f1",
   "metadata": {
    "scrolled": true
   },
   "outputs": [],
   "source": [
    "# No Handling Here Yet"
   ]
  },
  {
   "cell_type": "markdown",
   "id": "40f682d0",
   "metadata": {},
   "source": [
    "## Creating Summary DataFrames for Export"
   ]
  },
  {
   "cell_type": "code",
   "execution_count": null,
   "id": "df6ae29d",
   "metadata": {},
   "outputs": [],
   "source": []
  }
 ],
 "metadata": {
  "kernelspec": {
   "display_name": "Python 3 (ipykernel)",
   "language": "python",
   "name": "python3"
  },
  "language_info": {
   "codemirror_mode": {
    "name": "ipython",
    "version": 3
   },
   "file_extension": ".py",
   "mimetype": "text/x-python",
   "name": "python",
   "nbconvert_exporter": "python",
   "pygments_lexer": "ipython3",
   "version": "3.9.12"
  }
 },
 "nbformat": 4,
 "nbformat_minor": 5
}
