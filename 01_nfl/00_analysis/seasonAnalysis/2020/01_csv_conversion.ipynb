{
 "cells": [
  {
   "cell_type": "code",
   "execution_count": 1,
   "metadata": {},
   "outputs": [],
   "source": [
    "# All dependencies.\n",
    "import pandas as pd\n",
    "import numpy as np\n",
    "import matplotlib.pyplot as plt\n",
    "\n",
    "# Base settings.\n",
    "pd.set_option(\"display.max_rows\", None, \"display.max_columns\", None)"
   ]
  },
  {
   "cell_type": "code",
   "execution_count": 2,
   "metadata": {},
   "outputs": [],
   "source": [
    "# File paths. Base creation for all DataFrames. \n",
    "\n",
    "# Offense file paths.\n",
    "team_offense = pd.read_csv(\"offense/team_offense.csv\").drop([0,33,34,35,36]).drop(columns=['Unnamed: 0'])\n",
    "scoring_offense = pd.read_csv(\"offense/scoring_offense.csv\").drop([32,33,34,35]).drop(columns=['Rk'])\n",
    "passing_offense = pd.read_csv(\"offense/passing_offense.csv\").drop([32,33,34,35]).drop(columns=['Rk'])\n",
    "rushing_offense = pd.read_csv(\"offense/rushing_offense.csv\").drop([32,33,34,35]).drop(columns=['Rk'])\n",
    "\n",
    "# Team file paths.\n",
    "kicking_punting = pd.read_csv(\"offense/kicking_punting.csv\").drop([0,33,34,35,36]).drop(columns=['Unnamed: 0'])\n",
    "kick_punt_returns = pd.read_csv(\"offense/kick_punt_returns.csv\").drop([0,33,34,35,36]).drop(columns=['Unnamed: 0'])\n",
    "conversions = pd.read_csv(\"offense/conversions.csv\").drop([0,33,34]).drop(columns=['Unnamed: 0'])\n",
    "drive_averages = pd.read_csv(\"offense/drive_averages.csv\").drop([0,33,34]).drop(columns=['Unnamed: 0'])\n",
    "\n",
    "# Defense file paths.\n",
    "team_defense = pd.read_csv(\"defense/team_defense.csv\").drop([0,33,34,35,36]).drop(columns=['Unnamed: 0'])\n",
    "team_advanced_defense = pd.read_csv(\"defense/team_advanced_defense.csv\").drop([32])\n",
    "scoring_defense = pd.read_csv(\"defense/scoring_defense.csv\").drop([32,33,34,35]).drop(columns=['Rk'])\n",
    "passing_defense = pd.read_csv(\"defense/passing_defense.csv\").drop([32,33,34,35]).drop(columns=['Rk'])\n",
    "rushing_defense = pd.read_csv(\"defense/rushing_defense.csv\").drop([32,33,34,35]).drop(columns=['Rk'])\n",
    "\n",
    "# Opponent file paths.\n",
    "kicking_punting_against = pd.read_csv(\"defense/kicking_punting_against.csv\").drop([33,34,35,36]).drop(columns=['Unnamed: 0'])\n",
    "kick_punt_returns_against = pd.read_csv(\"defense/kick_punt_returns_against.csv\").drop([33,34,35,36]).drop(columns=['Unnamed: 0'])\n",
    "conversions_against = pd.read_csv(\"defense/conversions_against.csv\").drop([0,33]).drop(columns=['Unnamed: 0'])\n",
    "drive_averages_against = pd.read_csv(\"defense/drive_averages_against.csv\").drop([0,33,34]).drop(columns=['Unnamed: 0'])\n",
    "\n",
    "# Additional DataFrames\n",
    "complete_dataset = pd.DataFrame()\n",
    "offense = pd.DataFrame()\n",
    "kicking = pd.DataFrame()\n",
    "adv_offense = pd.DataFrame()\n",
    "defense = pd.DataFrame()\n",
    "kick_covering = pd.DataFrame()\n",
    "adv_defense = pd.DataFrame()"
   ]
  },
  {
   "cell_type": "code",
   "execution_count": 3,
   "metadata": {},
   "outputs": [],
   "source": [
    "# Offense Column Renaming\n",
    "team_offense.columns = [\"Team\",\"Games\",\"Points\",\"Yards\",\"Plays\",\"Yards per Play\",\n",
    "\"Turnovers\",\"Fumbles Lost\",\"First Downs\",\"Completions\",\"Attempts\",\"Passing Yards\",\"Passing TDs\",\n",
    "\"Interceptions\",\"Net Yards per Passing Attempt\",\"Passing First Downs\",\"Rushing Attempts\",\n",
    "\"Rushing Yards\",\"Rushing TDs\",\"Rushing Yards per Attempt\",\"Rushing First Downs\",\"Penalties\",\n",
    "\"Penalty Yards\",\"First Downs by Penalty\",\"Score Percentage\",\"Turnover Percentage\",\n",
    "\"Expected Points Contributed by Offense\"]\n",
    "scoring_offense.columns = [\"Team\",\"Games\",\"Rushing TDs\",\"Receiving TDs\",\"Punt Return TDs\",\n",
    "\"Kick Return TDs\",\"Fumble TDs\",\"Interception TDs\",\"Other TDs\",\"All TDs\",\"2 Point Conv. Made\",\n",
    "\"2 Point Conv. Attempted\",\"Defensive 2 Point\",\"Extra Points Made\",\"Extra Points Attempted\",\n",
    "\"Field Goals Made\",\"Field Goals Attempted\",\"Safeties\",\"Points\",\"Points per Game\"]\n",
    "passing_offense.columns = [\"Team\",\"Games\",'Completions','Attempts','Completion Percentage','Yards',\n",
    "                           'TDs','TD Percentage','Interceptions','INT Percentage','Long',\n",
    "                          'Yards per Attempt','Adj. Yards per Attempt','Yards per Completion',\n",
    "                          'Yards per Game','QBR','Sacks','Sack Yards','Net Yards per Attempt',\n",
    "                          'Adj. Net Yards per Attempt','Sack Percentage','4Q Comebacks',\n",
    "                          'Game Winning Drives','Expected Points Added']\n",
    "rushing_offense.columns = ['Team','Games','Attempts','Yards','TDs','Long','Yards per Attempt',\n",
    "                          'Yards per Game','Fumbles','Expected Points Added']"
   ]
  },
  {
   "cell_type": "code",
   "execution_count": 4,
   "metadata": {},
   "outputs": [],
   "source": [
    "# Kicking Column Renaming\n",
    "kicking_punting.columns = ['Team','Games','FGA: 0-19','FGM: 0-19','FGA: 20-29','FGM: 20-29',\n",
    "                           'FGA: 30-39','FGM: 30-39','FGA: 40-49','FGM: 40-49','FGA: 50+','FGM: 50+',\n",
    "                          'FGA','FGM','Long','FG Percentage','Extra Points Attempted','Extra Points Made',\n",
    "                          'Extra Point Percentage','Kickoffs','Kickoff Yards','Touchbacks',\n",
    "                          'Touchback Percentage','Kickoff Avg.','Punts','Punt Yards','Long','Blocked',\n",
    "                          'Yards per Punt']\n",
    "kick_punt_returns.columns = ['Team','Games','Punt Returns','PR Yards','PR TDs','Long PR','Yards per PR',\n",
    "                            'Kick Returns','KR Yards','KR TDs','Long KR','Yards per KR','All Purpose Yards']\n",
    "# Advanced Offense Column Renaming\n",
    "conversions.columns = ['Team','Games','3rd Down Attempts','3rd Down Conversions','3rd Down Percentage',\n",
    "                      '4th Down Attempts','4th Down Conversions','4th Down Percentage','Red Zone Attempts',\n",
    "                      'Red Zone TDs','Red Zone Percentage']\n",
    "drive_averages.columns = ['Team','Games','Drives','Plays','Scoring Percentage','Turnover Percentage',\n",
    "                         'Plays per Drive','Yards per Drive','Average Start','Average Time',\n",
    "                         'Average Points']"
   ]
  },
  {
   "cell_type": "code",
   "execution_count": 5,
   "metadata": {},
   "outputs": [],
   "source": [
    "# Defense Column Renaming\n",
    "team_defense.columns = ['Team','Games','Points','Yards','Plays','Yards per Play','Takeaways',\n",
    "                        'Fumbles Recovered','1st Downs','Completions','Attempts',' Passing Yards',\n",
    "                       'Passing TDs','Interceptions','Passing Yards per Attempt','Passing 1st Downs',\n",
    "                       'Rushing Attempts','Rushing Yards','Rushing TDs','Rushing Yards per Attempt',\n",
    "                       'Rushing 1st Downs','Penalties','Penalty Yards','1st Downs by Penalty',\n",
    "                       'Scoring Percentage','Takeaway Percentage','Expected Points Added']\n",
    "team_advanced_defense.columns = ['Team','Games','Attempts','Completions','Passing Yards','Passing TDs',\n",
    "                                'Target Depth','Completion Air Yards','Yards After Catch','Blitzes',\n",
    "                                'Blitzes per Dropback','Hurries','Hurries per Dropback','Knockdowns',\n",
    "                                'Knockdowns per Attempt','Sacks','Pressures','Pressures per Dropback',\n",
    "                                'Missed Tackles']\n",
    "scoring_defense.columns = ['Team','Games','Rushing TDs','Receiving TDs','PR TDs','KR TDs','Fumble TDs',\n",
    "                          'Interception TDs','Other TDs','All TDs','2P Made','2p Attempted','Extra Points Made',\n",
    "                          'Extra Points Attempted','Field Goals Made','Field Goals Attempted',\n",
    "                           'Safeties','Points','Points per Game']\n",
    "passing_defense.columns = ['Team','Games','Completions','Attempts','Completion Percentage',\n",
    "                          'Passing Yards','Passing TDs','TD Percentage','Interceptions','Passes Defensed',\n",
    "                          'Interception Percentage','Passing Yards per Attempt','Adj. Yards per Attempt',\n",
    "                          'Yards per Completion','Passing Yards per Game','QBR','Sacks','Sack Yards',\n",
    "                          'QB Hits','Tackles for Loss','Net Yards per Attempt',\n",
    "                           'Adj. Net Yards Per Attempt','Sack Percentage','Expected Points Added']\n",
    "rushing_defense.columns = ['Team','Games','Rushing Attempts','Rushing Yards','Rushing TDs',\n",
    "                          'Rushing Yards per Attempt','Rushing Yards per Game','Expected Points Added']"
   ]
  },
  {
   "cell_type": "code",
   "execution_count": 6,
   "metadata": {},
   "outputs": [],
   "source": [
    "# Opponent Kicking Column Renaming\n",
    "kicking_punting_against.columns = ['Team','Games','FGA','FGM','FG Percentage','Extra Points Attempted',\n",
    "                                  'Extra Points Made','Extra Point Percentage','Punts','Punt Yards',\n",
    "                                  'Punt Blocks','Yards per Punt']\n",
    "kick_punt_returns_against.columns = ['Team','Games','Punt Returns','PR Yards','PR TDs','Yards per PR',\n",
    "                            'Kick Returns','KR Yards','KR TDs','Yards per KR']\n",
    "# Opponent Advanced Offense Column Renaming\n",
    "conversions_against.columns = ['Team','Games','3rd Down Attempts','3rd Down Conversions','3rd Down Percentage',\n",
    "                      '4th Down Attempts','4th Down Conversions','4th Down Percentage','Red Zone Attempts',\n",
    "                      'Red Zone TDs','Red Zone Percentage']\n",
    "drive_averages_against.columns = ['Team','Games','Drives','Plays','Scoring Percentage','Turnover Percentage',\n",
    "                         'Plays per Drive','Yards per Drive','Average Start','Average Time',\n",
    "                         'Average Points']"
   ]
  },
  {
   "cell_type": "code",
   "execution_count": 7,
   "metadata": {},
   "outputs": [],
   "source": [
    "# Merging all offense into offense DataFrame, all defense into defense DataFrame.\n",
    "# Offense\n",
    "offense = pd.merge(team_offense, scoring_offense, how=\"outer\",on=\"Team\")\n",
    "offense = pd.merge(offense, passing_offense, how=\"outer\",on=\"Team\")\n",
    "offense = pd.merge(offense, rushing_offense, how=\"outer\",on=\"Team\")\n",
    "# Kicking\n",
    "kicking = pd.merge(kicking_punting, kick_punt_returns, how=\"outer\",on=\"Team\")\n",
    "# Advanced Offense\n",
    "adv_offense = pd.merge(conversions, drive_averages, how=\"outer\",on=\"Team\")\n",
    "# Defense\n",
    "defense = pd.merge(team_defense, team_advanced_defense, how = \"outer\",on=\"Team\")\n",
    "defense = pd.merge(defense, scoring_defense, how=\"outer\",on=\"Team\")\n",
    "defense = pd.merge(defense, passing_defense, how=\"outer\",on=\"Team\")\n",
    "defense = pd.merge(defense, rushing_defense, how=\"outer\",on=\"Team\")\n",
    "# Kick Covering\n",
    "kick_covering = pd.merge(kicking_punting_against, kick_punt_returns_against, how=\"outer\",on=\"Team\")\n",
    "# Advanced Defense\n",
    "adv_defense = pd.merge(conversions_against, drive_averages_against, how=\"outer\",on=\"Team\")"
   ]
  },
  {
   "cell_type": "code",
   "execution_count": 8,
   "metadata": {},
   "outputs": [],
   "source": [
    "# Picking offense columns.\n",
    "offense = offense[['Team','Games_y','Points_x','Yards_x','TDs_y','Passing Yards','Passing TDs',\n",
    "                   'Completions_x','Attempts_x','Net Yards per Passing Attempt','QBR',\n",
    "                   'Rushing Yards','Rushing TDs_x','Rushing Attempts','Rushing Yards per Attempt',\n",
    "                   'Plays','First Downs','Passing First Downs','Rushing First Downs','Yards per Play',\n",
    "                   'Turnovers','Interceptions_y','Fumbles','Fumbles Lost','Field Goals Made',\n",
    "                   'Field Goals Attempted','Extra Points Made','Extra Points Attempted',\n",
    "                   '2 Point Conv. Made','2 Point Conv. Attempted','Sacks','Sack Yards',\n",
    "                   'Sack Percentage','Safeties','Penalties','Penalty Yards','First Downs by Penalty',\n",
    "                   'Punt Return TDs','Kick Return TDs','Fumble TDs','Interception TDs','Other TDs',\n",
    "                   'All TDs','Expected Points Contributed by Offense','Score Percentage',\n",
    "                   'Turnover Percentage','Defensive 2 Point']]"
   ]
  },
  {
   "cell_type": "code",
   "execution_count": 9,
   "metadata": {},
   "outputs": [],
   "source": [
    "# Picking kicking columns.\n",
    "kicking = kicking[['Team', 'Games_x', 'FGA: 0-19', 'FGM: 0-19', 'FGA: 20-29', 'FGM: 20-29',\n",
    "       'FGA: 30-39', 'FGM: 30-39', 'FGA: 40-49', 'FGM: 40-49', 'FGA: 50+',\n",
    "       'FGM: 50+', 'FGA', 'FGM', 'Blocked', 'Long', 'FG Percentage',\n",
    "       'Extra Points Attempted', 'Extra Points Made', 'Extra Point Percentage',\n",
    "       'Kickoffs', 'Kickoff Yards', 'Touchbacks', 'Touchback Percentage',\n",
    "       'Kickoff Avg.', 'Punts', 'Punt Yards', 'Long',\n",
    "       'Yards per Punt', 'Punt Returns', 'PR Yards', 'PR TDs', 'Long PR',\n",
    "       'Kick Returns', 'KR Yards', 'KR TDs', 'Long KR', 'All Purpose Yards']]"
   ]
  },
  {
   "cell_type": "code",
   "execution_count": 10,
   "metadata": {},
   "outputs": [],
   "source": [
    "# Picking advanced offense columns.\n",
    "adv_offense = adv_offense[['Team', 'Games_x', '3rd Down Attempts', '3rd Down Conversions',\n",
    "       '3rd Down Percentage', '4th Down Attempts', '4th Down Conversions',\n",
    "       '4th Down Percentage', 'Red Zone Attempts', 'Red Zone TDs',\n",
    "       'Red Zone Percentage', 'Drives','Average Start', 'Average Time', 'Average Points']]"
   ]
  },
  {
   "cell_type": "code",
   "execution_count": 11,
   "metadata": {},
   "outputs": [
    {
     "data": {
      "text/plain": [
       "Index(['Team', 'Games_x', 'Games_x', 'Points_x', 'Yards', 'Plays',\n",
       "       'Yards per Play', 'Takeaways', 'Fumbles Recovered', '1st Downs',\n",
       "       'Completions_x', 'Attempts_x', ' Passing Yards', 'Passing TDs_x',\n",
       "       'Interceptions_x', 'Passing Yards per Attempt_x', 'Passing 1st Downs',\n",
       "       'Rushing Attempts_x', 'Rushing Yards_x', 'Rushing TDs_x',\n",
       "       'Rushing Yards per Attempt_x', 'Rushing 1st Downs', 'Penalties',\n",
       "       'Penalty Yards', '1st Downs by Penalty', 'Scoring Percentage',\n",
       "       'Takeaway Percentage', 'Target Depth', 'Completion Air Yards',\n",
       "       'Yards After Catch', 'Blitzes', 'Blitzes per Dropback', 'Hurries',\n",
       "       'Hurries per Dropback', 'Knockdowns', 'Knockdowns per Attempt',\n",
       "       'Sacks_x', 'Pressures', 'Pressures per Dropback', 'Missed Tackles',\n",
       "       'Rushing TDs_y', 'Receiving TDs', 'PR TDs', 'KR TDs', 'Fumble TDs',\n",
       "       'Interception TDs', 'Other TDs', 'All TDs', '2P Made', '2p Attempted',\n",
       "       'Extra Points Made', 'Extra Points Attempted', 'Field Goals Made',\n",
       "       'Field Goals Attempted', 'Safeties', 'TD Percentage', 'Passes Defensed',\n",
       "       'Interception Percentage', 'QBR', 'Sack Yards', 'QB Hits',\n",
       "       'Tackles for Loss', 'Sack Percentage', 'Expected Points Added'],\n",
       "      dtype='object')"
      ]
     },
     "execution_count": 11,
     "metadata": {},
     "output_type": "execute_result"
    }
   ],
   "source": [
    "# Picking defense columns.\n",
    "# NEEDS TO REORDER COLUMNS HERE AND THEN PICK LOWER ONES.\n",
    "defense = defense[['Team', 'Games_x', 'Points_x', 'Yards', 'Plays',\n",
    "       'Yards per Play', 'Takeaways', 'Fumbles Recovered', '1st Downs',\n",
    "       'Completions_x', 'Attempts_x', ' Passing Yards', 'Passing TDs_x',\n",
    "       'Interceptions_x', 'Passing Yards per Attempt_x', 'Passing 1st Downs',\n",
    "       'Rushing Attempts_x', 'Rushing Yards_x', 'Rushing TDs_x',\n",
    "       'Rushing Yards per Attempt_x', 'Rushing 1st Downs', 'Penalties',\n",
    "       'Penalty Yards', '1st Downs by Penalty', 'Scoring Percentage',\n",
    "       'Takeaway Percentage', 'Target Depth', 'Completion Air Yards',\n",
    "       'Yards After Catch', 'Blitzes', 'Blitzes per Dropback', 'Hurries',\n",
    "       'Hurries per Dropback', 'Knockdowns', 'Knockdowns per Attempt',\n",
    "       'Sacks_x', 'Pressures', 'Pressures per Dropback', 'Missed Tackles',\n",
    "       'Rushing TDs_y', 'Receiving TDs', 'PR TDs', 'KR TDs', 'Fumble TDs',\n",
    "       'Interception TDs', 'Other TDs', 'All TDs', '2P Made', '2p Attempted',\n",
    "       'Extra Points Made', 'Extra Points Attempted', 'Field Goals Made',\n",
    "       'Field Goals Attempted', 'Safeties', 'TD Percentage', 'Passes Defensed',\n",
    "       'Interception Percentage', 'QBR', 'Sack Yards', 'QB Hits',\n",
    "       'Tackles for Loss', 'Sack Percentage', 'Expected Points Added']]\n",
    "defense.columns"
   ]
  },
  {
   "cell_type": "code",
   "execution_count": null,
   "metadata": {},
   "outputs": [],
   "source": [
    "# Picking kick covering columns."
   ]
  },
  {
   "cell_type": "code",
   "execution_count": null,
   "metadata": {},
   "outputs": [],
   "source": [
    "# Picking advanced defense columns."
   ]
  },
  {
   "cell_type": "code",
   "execution_count": 35,
   "metadata": {},
   "outputs": [
    {
     "name": "stdout",
     "output_type": "stream",
     "text": [
      "['Team', 'Games', 'Games', 'Points', 'Yards', 'TDs', 'Passing Yards', 'Passing TDs', 'Completions', 'Attempts', 'Net Yards per Passing Attempt', 'QBR', 'Rushing Yards', 'Rushing TDs', 'Rushing Attempts', 'Rushing Yards per Attempt', 'Plays', 'First Downs', 'Passing First Downs', 'Rushing First Downs', 'Yards per Play', 'Turnovers', 'Interceptions', 'Fumbles', 'Fumbles Lost', 'Field Goals Made', 'Field Goals Attempted', 'Extra Points Made', 'Extra Points Attempted', '2 Point Conv. Made', '2 Point Conv. Attempted', 'Sacks', 'Sack Yards', 'Sack Percentage', 'Safeties', 'Penalties', 'Penalty Yards', 'First Downs by Penalty', 'Punt Return TDs', 'Kick Return TDs', 'Fumble TDs', 'Interception TDs', 'Other TDs', 'All TDs', 'Expected Points Contributed by Offense', 'Score Percentage', 'Turnover Percentage', 'Defensive 2 Point']\n",
      "['Team', 'Games', 'FGA: 0-19', 'FGM: 0-19', 'FGA: 20-29', 'FGM: 20-29', 'FGA: 30-39', 'FGM: 30-39', 'FGA: 40-49', 'FGM: 40-49', 'FGA: 50+', 'FGM: 50+', 'FGA', 'FGM', 'Blocked', 'Long', 'Long', 'FG Percentage', 'Extra Points Attempted', 'Extra Points Made', 'Extra Point Percentage', 'Kickoffs', 'Kickoff Yards', 'Touchbacks', 'Touchback Percentage', 'Kickoff Avg.', 'Punts', 'Punt Yards', 'Long', 'Long', 'Yards per Punt', 'Punt Returns', 'PR Yards', 'PR TDs', 'Long PR', 'Kick Returns', 'KR Yards', 'KR TDs', 'Long KR', 'All Purpose Yards']\n"
     ]
    }
   ],
   "source": [
    "# Drops _x and _y from any of the column names.\n",
    "def replace_column_names (column):\n",
    "    column = column.replace(\"_x\",\"\")\n",
    "    column = column.replace(\"_y\",\"\")\n",
    "    return column\n",
    "\n",
    "offense_columns = list(offense.columns)\n",
    "kicking_columns = list(kicking.columns)\n",
    "\n",
    "tables = [offense_columns, kicking_columns]\n",
    "titles = [offense, kicking]\n",
    "\n",
    "def equal_elements(t1, t2):\n",
    "    return [x for x, y in zip(t1, t2) if x == y]\n",
    "\n",
    "for column_list in tables:\n",
    "    new_column_names = [replace_column_names(column) for column in column_list]\n",
    "    df = pd.DataFrame()\n",
    "    for title in titles:\n",
    "    #title = pd.DataFrame(title)\n",
    "    #new_column_list = pd.DataFrame(column_list[new_column_names])\n",
    "    #print(table)\n",
    "    #table.to_csv(f\"created_csvs/{table}.csv\")\n",
    "#print(offense_columns)"
   ]
  },
  {
   "cell_type": "code",
   "execution_count": null,
   "metadata": {},
   "outputs": [],
   "source": [
    "    for column in table:\n",
    "        table = [for column]\n",
    "        column.replace(\"_x\",\"\")\n",
    "        column = column.replace(\"_y\",\"\")\n",
    "        new_column = replace_column_names(column)\n",
    "        table.char.replace(columns={column:new_column}, inplace=True) \n",
    "        people = [item.replace('item', 'person') for item in items]\n",
    "        \n",
    "print(offense.columns)"
   ]
  },
  {
   "cell_type": "code",
   "execution_count": 36,
   "metadata": {},
   "outputs": [],
   "source": [
    "# Offense\n",
    "offense_columns = list(offense.columns)\n",
    "offense_columns_renamed = []\n",
    "for column in offense_columns:\n",
    "    column = replace_column_names(column)\n",
    "    offense_columns_renamed.append(column)\n",
    "offense.columns = (offense_columns_renamed)\n",
    "\n",
    "# Kicking\n",
    "kicking_columns = list(kicking.columns)\n",
    "kicking_columns_renamed = []\n",
    "for column in kicking_columns:\n",
    "    column = replace_column_names(column)\n",
    "    kicking_columns_renamed.append(column)\n",
    "kicking.columns = (kicking_columns_renamed)\n",
    "\n",
    "# Advanced Offense\n",
    "adv_offense_columns = list(adv_offense.columns)\n",
    "adv_offense_columns_renamed = []\n",
    "for column in adv_offense_columns:\n",
    "    column = replace_column_names(column)\n",
    "    adv_offense_columns_renamed.append(column)\n",
    "adv_offense.columns = (adv_offense_columns_renamed)\n",
    "\n",
    "# Defense\n",
    "defense_columns = list(defense.columns)\n",
    "defense_columns_renamed = []\n",
    "for column in defense_columns:\n",
    "    column = replace_column_names(column)\n",
    "    defense_columns_renamed.append(column)\n",
    "defense.columns = (defense_columns_renamed)\n",
    "\n",
    "# Kick Covering\n",
    "kick_covering_columns = list(kick_covering.columns)\n",
    "kick_covering_columns_renamed = []\n",
    "for column in kick_covering_columns:\n",
    "    column = replace_column_names(column)\n",
    "    kick_covering_columns_renamed.append(column)\n",
    "kick_covering.columns = (kick_covering_columns_renamed)\n",
    "\n",
    "# Advance Defense\n",
    "adv_defense_columns = list(adv_defense.columns)\n",
    "adv_defense_columns_renamed = []\n",
    "for column in adv_defense_columns:\n",
    "    column = replace_column_names(column)\n",
    "    adv_defense_columns_renamed.append(column)\n",
    "adv_defense.columns = (adv_defense_columns_renamed)"
   ]
  },
  {
   "cell_type": "code",
   "execution_count": 37,
   "metadata": {},
   "outputs": [],
   "source": [
    "# Complete Dataset Creation\n",
    "complete_dataset = pd.merge(offense, kicking, how=\"outer\", on=\"Team\")\n",
    "complete_dataset = pd.merge(complete_dataset, adv_offense, how=\"outer\", on=\"Team\")\n",
    "complete_dataset = pd.merge(complete_dataset, defense, how=\"outer\", on=\"Team\")\n",
    "complete_dataset = pd.merge(complete_dataset, kick_covering, how=\"outer\", on=\"Team\")\n",
    "complete_dataset = pd.merge(complete_dataset, adv_defense, how=\"outer\", on=\"Team\")"
   ]
  },
  {
   "cell_type": "code",
   "execution_count": 38,
   "metadata": {},
   "outputs": [],
   "source": [
    "# Complete Dataset\n",
    "complete_dataset_columns = list(complete_dataset.columns)\n",
    "complete_dataset_columns_renamed = []\n",
    "for column in complete_dataset_columns:\n",
    "    column = column.replace(\"_x\",\"\")\n",
    "    column = column.replace(\"_y\",\"\")\n",
    "    complete_dataset_columns_renamed.append(column)\n",
    "complete_dataset.columns = (complete_dataset_columns_renamed)"
   ]
  },
  {
   "cell_type": "code",
   "execution_count": 39,
   "metadata": {},
   "outputs": [],
   "source": [
    "# Exports new CSV's.\n",
    "offense.to_csv(\"created_csvs/offense.csv\")\n",
    "kicking.to_csv(\"created_csvs/kicking.csv\")\n",
    "adv_offense.to_csv(\"created_csvs/adv_offense.csv\")\n",
    "defense.to_csv(\"created_csvs/defense.csv\")\n",
    "kick_covering.to_csv(\"created_csvs/kick_covering.csv\")\n",
    "adv_defense.to_csv(\"created_csvs/adv_defense.csv\")\n",
    "complete_dataset.to_csv(\"created_csvs/complete_dataset.csv\")"
   ]
  },
  {
   "cell_type": "code",
   "execution_count": null,
   "metadata": {},
   "outputs": [],
   "source": []
  },
  {
   "cell_type": "code",
   "execution_count": null,
   "metadata": {},
   "outputs": [],
   "source": []
  },
  {
   "cell_type": "code",
   "execution_count": null,
   "metadata": {},
   "outputs": [],
   "source": []
  },
  {
   "cell_type": "code",
   "execution_count": null,
   "metadata": {},
   "outputs": [],
   "source": []
  }
 ],
 "metadata": {
  "kernelspec": {
   "display_name": "Python 3",
   "language": "python",
   "name": "python3"
  },
  "language_info": {
   "codemirror_mode": {
    "name": "ipython",
    "version": 3
   },
   "file_extension": ".py",
   "mimetype": "text/x-python",
   "name": "python",
   "nbconvert_exporter": "python",
   "pygments_lexer": "ipython3",
   "version": "3.6.10"
  }
 },
 "nbformat": 4,
 "nbformat_minor": 4
}
