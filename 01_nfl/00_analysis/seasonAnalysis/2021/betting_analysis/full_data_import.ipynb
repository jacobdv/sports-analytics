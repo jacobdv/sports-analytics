{
 "cells": [
  {
   "cell_type": "markdown",
   "id": "multiple-piece",
   "metadata": {},
   "source": [
    "# Imports and Initial Formatting"
   ]
  },
  {
   "cell_type": "code",
   "execution_count": 1,
   "id": "unnecessary-economy",
   "metadata": {},
   "outputs": [],
   "source": [
    "import pandas as pd\n",
    "d2007 = pd.read_csv('../resources/2007_betting_odds.csv')\n",
    "d2008 = pd.read_csv('../resources/2008_betting_odds.csv')\n",
    "d2009 = pd.read_csv('../resources/2009_betting_odds.csv')\n",
    "d2010 = pd.read_csv('../resources/2010_betting_odds.csv')\n",
    "d2011 = pd.read_csv('../resources/2011_betting_odds.csv')\n",
    "d2012 = pd.read_csv('../resources/2012_betting_odds.csv')\n",
    "d2013 = pd.read_csv('../resources/2013_betting_odds.csv')\n",
    "d2014 = pd.read_csv('../resources/2014_betting_odds.csv')\n",
    "d2015 = pd.read_csv('../resources/2015_betting_odds.csv')\n",
    "d2016 = pd.read_csv('../resources/2016_betting_odds.csv')\n",
    "d2017 = pd.read_csv('../resources/2017_betting_odds.csv')\n",
    "d2018 = pd.read_csv('../resources/2018_betting_odds.csv')\n",
    "d2019 = pd.read_csv('../resources/2019_betting_odds.csv')\n",
    "d2020 = pd.read_csv('../resources/2020_betting_odds.csv')\n",
    "d2021 = pd.read_csv('../resources/2021_betting_odds.csv')\n",
    "data = d2007.append(d2008).append(d2009).append(d2010).append(d2011).append(d2012).append(d2013).append(d2014).append(d2015).append(d2016).append(d2017).append(d2018).append(d2019).append(d2020).append(d2021)"
   ]
  },
  {
   "cell_type": "markdown",
   "id": "gorgeous-nudist",
   "metadata": {},
   "source": [
    "# Exporting Full Data"
   ]
  },
  {
   "cell_type": "code",
   "execution_count": 2,
   "id": "going-essay",
   "metadata": {},
   "outputs": [],
   "source": [
    "data.to_csv('../resources/betting_odds.csv')"
   ]
  }
 ],
 "metadata": {
  "kernelspec": {
   "display_name": "PythonData",
   "language": "python",
   "name": "pythondata"
  },
  "language_info": {
   "codemirror_mode": {
    "name": "ipython",
    "version": 3
   },
   "file_extension": ".py",
   "mimetype": "text/x-python",
   "name": "python",
   "nbconvert_exporter": "python",
   "pygments_lexer": "ipython3",
   "version": "3.6.10"
  }
 },
 "nbformat": 4,
 "nbformat_minor": 5
}
