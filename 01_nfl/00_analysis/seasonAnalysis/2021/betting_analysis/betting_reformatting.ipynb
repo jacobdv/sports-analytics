{
 "cells": [
  {
   "cell_type": "markdown",
   "id": "electoral-christianity",
   "metadata": {},
   "source": [
    "# Imports and Initial Formatting"
   ]
  },
  {
   "cell_type": "code",
   "execution_count": 1,
   "id": "varied-flash",
   "metadata": {},
   "outputs": [],
   "source": [
    "import pandas as pd\n",
    "data = pd.read_csv('../resources/betting_odds.csv')\n",
    "data = data[['Date','VH','Team','Final','Close','ML']]\n",
    "data = data.replace('pk', '0')"
   ]
  },
  {
   "cell_type": "markdown",
   "id": "independent-basket",
   "metadata": {},
   "source": [
    "# Pulling Data for DataFrame"
   ]
  },
  {
   "cell_type": "code",
   "execution_count": 2,
   "id": "american-modification",
   "metadata": {},
   "outputs": [],
   "source": [
    "date = []\n",
    "home = []\n",
    "score_h = []\n",
    "score_a = []\n",
    "away = []\n",
    "ml_h = []\n",
    "ml_a = []\n",
    "either = []\n",
    "for column, row in data.iterrows():\n",
    "    if column % 2 == 0:\n",
    "        date.append(row['Date'])\n",
    "        away.append(row['Team'])\n",
    "        score_a.append(row['Final'])\n",
    "        ml_a.append(row['ML'])\n",
    "    else:\n",
    "        home.append(row['Team'])\n",
    "        score_h.append(row['Final'])\n",
    "        ml_h.append(row['ML'])\n",
    "    either.append(row['Close'])"
   ]
  },
  {
   "cell_type": "markdown",
   "id": "imported-sydney",
   "metadata": {},
   "source": [
    "# Parses Over/Under and Spread"
   ]
  },
  {
   "cell_type": "code",
   "execution_count": 3,
   "id": "twelve-charter",
   "metadata": {},
   "outputs": [],
   "source": [
    "spread = []\n",
    "ou = []\n",
    "i = 0\n",
    "for x in range(0,int((len(either))/2),1):\n",
    "    first = float(either[i])\n",
    "    i += 1\n",
    "    second = float(either[i])\n",
    "    i += 1\n",
    "    if first > second:\n",
    "        ou.append(first)\n",
    "        spread.append(second)\n",
    "    else: \n",
    "        ou.append(second)\n",
    "        spread.append(first)"
   ]
  },
  {
   "cell_type": "markdown",
   "id": "mounted-district",
   "metadata": {},
   "source": [
    "# Creates Formatted DataFrame for Analysis"
   ]
  },
  {
   "cell_type": "code",
   "execution_count": 4,
   "id": "early-singing",
   "metadata": {},
   "outputs": [],
   "source": [
    "data = pd.DataFrame({'date':date,'ml_a':ml_a,'away':away,'score_a':score_a,'score_h':score_h,\n",
    "                      'home':home,'ml_h':ml_h,'o/u':ou,'spread':spread})\n",
    "data = data.dropna(how='any')"
   ]
  },
  {
   "cell_type": "markdown",
   "id": "national-colonial",
   "metadata": {},
   "source": [
    "# Splitting Data and Adding ATS Columns"
   ]
  },
  {
   "cell_type": "code",
   "execution_count": 5,
   "id": "closed-penguin",
   "metadata": {},
   "outputs": [],
   "source": [
    "cover = []\n",
    "result = []\n",
    "for index, game in data.iterrows():\n",
    "    # Home Favorite\n",
    "    if game['ml_h'] < game['ml_a']:\n",
    "        if (game['score_h'] - game['spread']) > game['score_a']:\n",
    "            cover.append('Home Favorite Covers')\n",
    "        elif (game['score_h'] - game['spread']) < game['score_a']:\n",
    "            cover.append('Away Underdog Covers')\n",
    "        else:\n",
    "            cover.append('HF / AU Equals')\n",
    "            \n",
    "        if game['score_h'] > game['score_a']:\n",
    "            result.append('Home Favorite Win')\n",
    "        elif game['score_h'] < game['score_a']:\n",
    "            result.append('Away Underdog Win')\n",
    "        else:\n",
    "            result.append('HF / AU Tie')\n",
    "    # Away Favorite\n",
    "    elif game['ml_h'] > game['ml_a']:\n",
    "        if (game['score_a'] - game['spread']) > game['score_h']:\n",
    "            cover.append('Away Favorite Covers')\n",
    "        elif (game['score_a'] - game['spread']) < game['score_h']:\n",
    "            cover.append('Home Underdog Covers')\n",
    "        else:\n",
    "            cover.append('HU / AF Equals')\n",
    "            \n",
    "        if game['score_h'] > game['score_a']:\n",
    "            result.append('Home Underdog Win')\n",
    "        elif game['score_h'] < game['score_a']:\n",
    "            result.append('Away Favorite Win')\n",
    "        else:\n",
    "            result.append('HU / AF Tie')\n",
    "    # No Favorite\n",
    "    else: \n",
    "        if game['score_h'] > game['score_a']:\n",
    "            cover.append('Home Even Win')\n",
    "        elif game['score_h'] < game['score_a']:\n",
    "            cover.append('Away Even Win')\n",
    "        else:\n",
    "            cover.append('Tie Equals')\n",
    "            \n",
    "        if game['score_h'] > game['score_a']:\n",
    "            result.append('Home Win')\n",
    "        elif game['score_h'] < game['score_a']:\n",
    "            result.append('Away Win')\n",
    "        else:\n",
    "            result.append('Tie')\n",
    "data['cover'] = cover\n",
    "data['result'] = result"
   ]
  },
  {
   "cell_type": "markdown",
   "id": "regulated-digit",
   "metadata": {},
   "source": [
    "# Exporting Formatted File"
   ]
  },
  {
   "cell_type": "code",
   "execution_count": 6,
   "id": "dependent-survivor",
   "metadata": {},
   "outputs": [],
   "source": [
    "data.to_csv('../resources/reformatted.csv')"
   ]
  }
 ],
 "metadata": {
  "kernelspec": {
   "display_name": "PythonData",
   "language": "python",
   "name": "pythondata"
  },
  "language_info": {
   "codemirror_mode": {
    "name": "ipython",
    "version": 3
   },
   "file_extension": ".py",
   "mimetype": "text/x-python",
   "name": "python",
   "nbconvert_exporter": "python",
   "pygments_lexer": "ipython3",
   "version": "3.6.10"
  }
 },
 "nbformat": 4,
 "nbformat_minor": 5
}
