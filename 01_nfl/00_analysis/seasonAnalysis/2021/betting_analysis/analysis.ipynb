{
 "cells": [
  {
   "cell_type": "markdown",
   "id": "awful-mississippi",
   "metadata": {},
   "source": [
    "# Imports and Dropping Unneeded Columns"
   ]
  },
  {
   "cell_type": "code",
   "execution_count": 1,
   "id": "sunrise-announcement",
   "metadata": {},
   "outputs": [],
   "source": [
    "import pandas as pd\n",
    "data = pd.read_csv('../resources/reformatted.csv').drop(columns=['date','Unnamed: 0'], axis=1)"
   ]
  },
  {
   "cell_type": "markdown",
   "id": "palestinian-discount",
   "metadata": {},
   "source": [
    "# Value Counts and Analysis"
   ]
  },
  {
   "cell_type": "code",
   "execution_count": 2,
   "id": "variable-republican",
   "metadata": {},
   "outputs": [],
   "source": [
    "counts = data['cover'].value_counts()\n",
    "results = data['result'].value_counts()\n",
    "hfg = counts['Home Favorite Covers'] + counts['Away Underdog Covers'] + counts['HF / AU Equals']\n",
    "afg = counts['Away Favorite Covers'] + counts['Home Underdog Covers'] + counts['HU / AF Equals']\n",
    "nfg = counts['Home Even Win'] + counts['Away Even Win']"
   ]
  },
  {
   "cell_type": "markdown",
   "id": "injured-foster",
   "metadata": {},
   "source": [
    "# Results"
   ]
  },
  {
   "cell_type": "code",
   "execution_count": 3,
   "id": "protective-latino",
   "metadata": {},
   "outputs": [
    {
     "name": "stdout",
     "output_type": "stream",
     "text": [
      "Home Favorite:\n",
      "\t    Home Win: 67.45%\n",
      "\t    Away Win: 32.27%\n",
      "\t    Tie: 0.28%\n",
      "\t    Home Cover: 46.33%\n",
      "\t    Away Cover: 50.56%\n",
      "\t    No Cover: 3.11%\n",
      "Away Favorite:\n",
      "\t    Home Win: 34.56%\n",
      "\t    Away Win: 65.14%\n",
      "\t    Tie: 0.3%\n",
      "\t    Home Cover: 48.13%\n",
      "\t    Away Cover: 48.88%\n",
      "\t    No Cover: 3.0%\n",
      "No Favorite:\n",
      "\t    Home Win: 52.17%\n",
      "\t    Away Win: 47.83%\n"
     ]
    }
   ],
   "source": [
    "print(f\"Home Favorite:\\n\\t\\\n",
    "    Home Win: {round(100 * results['Home Favorite Win'] / hfg, 2)}%\\n\\t\\\n",
    "    Away Win: {round(100 * results['Away Underdog Win'] / hfg, 2)}%\\n\\t\\\n",
    "    Tie: {round(100 * results['HF / AU Tie'] / hfg, 2)}%\\n\\t\\\n",
    "    Home Cover: {round(100 * counts['Home Favorite Covers'] / hfg, 2)}%\\n\\t\\\n",
    "    Away Cover: {round(100 * counts['Away Underdog Covers'] / hfg, 2)}%\\n\\t\\\n",
    "    No Cover: {round(100 * (hfg - (counts['Home Favorite Covers'] + counts['Away Underdog Covers'])) / hfg, 2)}%\")\n",
    "print(f\"Away Favorite:\\n\\t\\\n",
    "    Home Win: {round(100 * results['Home Underdog Win'] / afg, 2)}%\\n\\t\\\n",
    "    Away Win: {round(100 * results['Away Favorite Win'] / afg, 2)}%\\n\\t\\\n",
    "    Tie: {round(100 * results['HU / AF Tie'] / afg, 2)}%\\n\\t\\\n",
    "    Home Cover: {round(100 * counts['Home Underdog Covers'] / afg, 2)}%\\n\\t\\\n",
    "    Away Cover: {round(100 * counts['Away Favorite Covers'] / afg, 2)}%\\n\\t\\\n",
    "    No Cover: {round(100 * (afg - (counts['Home Underdog Covers'] + counts['Away Favorite Covers'])) / afg, 2)}%\")\n",
    "print(f\"No Favorite:\\n\\t\\\n",
    "    Home Win: {round(100 * results['Home Win'] / nfg, 2)}%\\n\\t\\\n",
    "    Away Win: {round(100 * results['Away Win'] / nfg, 2)}%\")"
   ]
  }
 ],
 "metadata": {
  "kernelspec": {
   "display_name": "PythonData",
   "language": "python",
   "name": "pythondata"
  },
  "language_info": {
   "codemirror_mode": {
    "name": "ipython",
    "version": 3
   },
   "file_extension": ".py",
   "mimetype": "text/x-python",
   "name": "python",
   "nbconvert_exporter": "python",
   "pygments_lexer": "ipython3",
   "version": "3.6.10"
  }
 },
 "nbformat": 4,
 "nbformat_minor": 5
}
