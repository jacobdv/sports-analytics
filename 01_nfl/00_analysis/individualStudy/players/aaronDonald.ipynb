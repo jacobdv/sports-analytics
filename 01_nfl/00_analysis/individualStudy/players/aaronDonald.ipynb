{
 "cells": [
  {
   "cell_type": "code",
   "execution_count": 44,
   "id": "034d5ae4",
   "metadata": {},
   "outputs": [],
   "source": [
    "import pandas as pd\n",
    "import numpy as np"
   ]
  },
  {
   "cell_type": "code",
   "execution_count": 113,
   "id": "8368c4ba",
   "metadata": {},
   "outputs": [
    {
     "data": {
      "text/html": [
       "<div>\n",
       "<style scoped>\n",
       "    .dataframe tbody tr th:only-of-type {\n",
       "        vertical-align: middle;\n",
       "    }\n",
       "\n",
       "    .dataframe tbody tr th {\n",
       "        vertical-align: top;\n",
       "    }\n",
       "\n",
       "    .dataframe thead th {\n",
       "        text-align: right;\n",
       "    }\n",
       "</style>\n",
       "<table border=\"1\" class=\"dataframe\">\n",
       "  <thead>\n",
       "    <tr style=\"text-align: right;\">\n",
       "      <th></th>\n",
       "      <th>Date</th>\n",
       "      <th>@</th>\n",
       "      <th>Opp</th>\n",
       "      <th>Result</th>\n",
       "      <th>Safety</th>\n",
       "      <th>TD</th>\n",
       "      <th>Sk</th>\n",
       "      <th>Solo</th>\n",
       "      <th>Ast</th>\n",
       "      <th>Comb</th>\n",
       "      <th>TFL</th>\n",
       "      <th>QBHits</th>\n",
       "      <th>PD</th>\n",
       "      <th>FF</th>\n",
       "      <th>FR</th>\n",
       "      <th>Snaps</th>\n",
       "      <th>Snap Percentage</th>\n",
       "      <th>Playoff</th>\n",
       "      <th>Score</th>\n",
       "    </tr>\n",
       "  </thead>\n",
       "  <tbody>\n",
       "    <tr>\n",
       "      <th>0</th>\n",
       "      <td>2014-09-07</td>\n",
       "      <td></td>\n",
       "      <td>MIN</td>\n",
       "      <td>L</td>\n",
       "      <td>0</td>\n",
       "      <td>0</td>\n",
       "      <td>0.0</td>\n",
       "      <td>4</td>\n",
       "      <td>0</td>\n",
       "      <td>4</td>\n",
       "      <td>2</td>\n",
       "      <td>0</td>\n",
       "      <td>0</td>\n",
       "      <td>0</td>\n",
       "      <td>0</td>\n",
       "      <td>30</td>\n",
       "      <td>51%</td>\n",
       "      <td>No</td>\n",
       "      <td>6-34</td>\n",
       "    </tr>\n",
       "    <tr>\n",
       "      <th>1</th>\n",
       "      <td>2014-09-14</td>\n",
       "      <td>@</td>\n",
       "      <td>TAM</td>\n",
       "      <td>W</td>\n",
       "      <td>0</td>\n",
       "      <td>0</td>\n",
       "      <td>1.0</td>\n",
       "      <td>3</td>\n",
       "      <td>0</td>\n",
       "      <td>3</td>\n",
       "      <td>3</td>\n",
       "      <td>1</td>\n",
       "      <td>0</td>\n",
       "      <td>0</td>\n",
       "      <td>0</td>\n",
       "      <td>25</td>\n",
       "      <td>44%</td>\n",
       "      <td>No</td>\n",
       "      <td>19-17</td>\n",
       "    </tr>\n",
       "  </tbody>\n",
       "</table>\n",
       "</div>"
      ],
      "text/plain": [
       "         Date  @  Opp Result Safety TD   Sk Solo Ast Comb TFL QBHits PD FF FR  \\\n",
       "0  2014-09-07     MIN      L      0  0  0.0    4   0    4   2      0  0  0  0   \n",
       "1  2014-09-14  @  TAM      W      0  0  1.0    3   0    3   3      1  0  0  0   \n",
       "\n",
       "  Snaps Snap Percentage Playoff  Score  \n",
       "0    30             51%      No   6-34  \n",
       "1    25             44%      No  19-17  "
      ]
     },
     "execution_count": 113,
     "metadata": {},
     "output_type": "execute_result"
    }
   ],
   "source": [
    "# Import and Drop Bonus Column\n",
    "career = pd.read_csv('data/career/aaronDonald-2-11-2022.csv').drop(columns=['Unnamed: 0'])\n",
    "\n",
    "# Sort Playoff Games into All Games\n",
    "career['Year'] = [x.split('-')[0] for x in career['Date']]\n",
    "career['Month'] = [x.split('-')[1] for x in career['Date']]\n",
    "career['Day'] = [x.split('-')[2] for x in career['Date']]\n",
    "career = career.sort_values(by=['Year','Month','Day'])\n",
    "# Drop Sorting Columns\n",
    "career = career.drop(columns=['Year','Month','Day'])\n",
    "\n",
    "# Drop Created NaNs and Inactive Games\n",
    "career['@'] = career['@'].replace(np.nan,'')\n",
    "career = career.loc[career['Snap Percentage'] != 'Inactive']\n",
    "\n",
    "# Split Result and Score\n",
    "career['Score'] = [x.split(' ')[1] for x in career['Result']]\n",
    "career['Result'] = [x.split(' ')[0] for x in career['Result']]\n",
    "\n",
    "# Retype Data\n",
    "career[['Date','@','Opp','Result','Score','Snap Percentage','Playoff']].astype('str')\n",
    "career[['Safety', 'TD', 'Sk', 'Solo', 'Ast',\n",
    "       'Comb', 'TFL', 'QBHits', 'PD', 'FF', 'FR', 'Snaps']].astype('float64')\n",
    "\n",
    "# Head for Formatting Check\n",
    "career.head(2)"
   ]
  },
  {
   "cell_type": "code",
   "execution_count": 116,
   "id": "8507ea1d",
   "metadata": {},
   "outputs": [
    {
     "data": {
      "text/plain": [
       "77"
      ]
     },
     "execution_count": 116,
     "metadata": {},
     "output_type": "execute_result"
    }
   ],
   "source": [
    "len(career.loc[career['Result'] == 'W'])"
   ]
  },
  {
   "cell_type": "code",
   "execution_count": 117,
   "id": "dfc6421c",
   "metadata": {},
   "outputs": [
    {
     "data": {
      "text/plain": [
       "59"
      ]
     },
     "execution_count": 117,
     "metadata": {},
     "output_type": "execute_result"
    }
   ],
   "source": [
    "len(career.loc[career['Result'] == 'L'])"
   ]
  }
 ],
 "metadata": {
  "kernelspec": {
   "display_name": "sportsAnalytics",
   "language": "python",
   "name": "sportsanalytics"
  },
  "language_info": {
   "codemirror_mode": {
    "name": "ipython",
    "version": 3
   },
   "file_extension": ".py",
   "mimetype": "text/x-python",
   "name": "python",
   "nbconvert_exporter": "python",
   "pygments_lexer": "ipython3",
   "version": "3.8.5"
  }
 },
 "nbformat": 4,
 "nbformat_minor": 5
}
