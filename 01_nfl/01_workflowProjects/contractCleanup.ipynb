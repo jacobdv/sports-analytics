{
 "cells": [
  {
   "cell_type": "code",
   "execution_count": 1,
   "metadata": {},
   "outputs": [],
   "source": [
    "import pandas as pd\n",
    "import csv"
   ]
  },
  {
   "cell_type": "code",
   "execution_count": 2,
   "metadata": {},
   "outputs": [],
   "source": [
    "salaries = pd.DataFrame(columns=['Name','Team','Salary'])"
   ]
  },
  {
   "cell_type": "code",
   "execution_count": 3,
   "metadata": {},
   "outputs": [],
   "source": [
    "with open ('salaries.csv','r') as file:\n",
    "    reader = csv.reader(file)\n",
    "    i = 1\n",
    "    playerRow = []\n",
    "    for row in reader:\n",
    "        if i % 4 == 1:\n",
    "            playerRow.clear()\n",
    "        elif i % 4 == 2: # Name\n",
    "            playerRow.append(row[0])\n",
    "        elif i % 4 == 3: # Team\n",
    "            playerRow.append(row[0].replace(' ',''))\n",
    "        elif i % 4 == 0: # Salary\n",
    "            if len(row) == 3:\n",
    "                playerRow.append(row[0].split('$')[1] + ',' + row[1] + ',' + row[2])\n",
    "            else: \n",
    "                playerRow.append(row[0].split('$')[1] + ',' + row[1])\n",
    "            newRow = pd.Series(playerRow, index = salaries.columns)\n",
    "            salaries = salaries.append(newRow, ignore_index = True)\n",
    "        i += 1"
   ]
  },
  {
   "cell_type": "code",
   "execution_count": 6,
   "metadata": {},
   "outputs": [],
   "source": [
    "# salaries.to_csv('data/2021/WR_2021-22_Salaries.csv')"
   ]
  },
  {
   "cell_type": "code",
   "execution_count": null,
   "metadata": {},
   "outputs": [],
   "source": []
  }
 ],
 "metadata": {
  "kernelspec": {
   "display_name": "sportsAnalytics",
   "language": "python",
   "name": "sportsanalytics"
  },
  "language_info": {
   "codemirror_mode": {
    "name": "ipython",
    "version": 3
   },
   "file_extension": ".py",
   "mimetype": "text/x-python",
   "name": "python",
   "nbconvert_exporter": "python",
   "pygments_lexer": "ipython3",
   "version": "3.8.5"
  }
 },
 "nbformat": 4,
 "nbformat_minor": 4
}
